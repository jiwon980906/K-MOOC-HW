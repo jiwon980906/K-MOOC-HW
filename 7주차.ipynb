{
 "cells": [
  {
   "cell_type": "code",
   "execution_count": 1,
   "metadata": {},
   "outputs": [],
   "source": [
    "#sklearn의 datasets에서 load_iris를 로드\n",
    "from sklearn.datasets import load_iris\n",
    "#iris데이터셋을 iris라는 변수에 저장\n",
    "iris = load_iris()"
   ]
  },
  {
   "cell_type": "code",
   "execution_count": 2,
   "metadata": {},
   "outputs": [
    {
     "data": {
      "text/plain": [
       "dict_keys(['data', 'target', 'frame', 'target_names', 'DESCR', 'feature_names', 'filename'])"
      ]
     },
     "execution_count": 2,
     "metadata": {},
     "output_type": "execute_result"
    }
   ],
   "source": [
    "#iris에 있는 key값을 나타냄\n",
    "iris.keys()"
   ]
  },
  {
   "cell_type": "code",
   "execution_count": 3,
   "metadata": {},
   "outputs": [
    {
     "data": {
      "text/plain": [
       "array([[5.1, 3.5, 1.4, 0.2],\n",
       "       [4.9, 3. , 1.4, 0.2],\n",
       "       [4.7, 3.2, 1.3, 0.2],\n",
       "       [4.6, 3.1, 1.5, 0.2],\n",
       "       [5. , 3.6, 1.4, 0.2],\n",
       "       [5.4, 3.9, 1.7, 0.4],\n",
       "       [4.6, 3.4, 1.4, 0.3],\n",
       "       [5. , 3.4, 1.5, 0.2],\n",
       "       [4.4, 2.9, 1.4, 0.2],\n",
       "       [4.9, 3.1, 1.5, 0.1]])"
      ]
     },
     "execution_count": 3,
     "metadata": {},
     "output_type": "execute_result"
    }
   ],
   "source": [
    "#iris데이터셋의 0번째부터 9번째까지를 슬라이싱해서 나타냄\n",
    "iris['data'][0:10]"
   ]
  },
  {
   "cell_type": "code",
   "execution_count": 4,
   "metadata": {},
   "outputs": [],
   "source": [
    "#X에는 iris데이터의 값 150x4의 크기를 입력\n",
    "#y에는 분류하고자 하는 target변수를 입력\n",
    "#target변수는 데이터가 무엇인지에 대해 판별하는 값\n",
    "#iris target의 경우 0, 1, 2로 구분됨\n",
    "X = iris['data']\n",
    "y = iris['target']"
   ]
  },
  {
   "cell_type": "code",
   "execution_count": 9,
   "metadata": {},
   "outputs": [],
   "source": [
    "#위의 데이터를 train과 test로 구분\n",
    "#sklearn의 model_selection 내에 train_test_split를 로드\n",
    "#train_test_split을 이용해 위의 X변수에 선언한 data값과 y변수에 선언한 target\n",
    "from sklearn.model_selection import train_test_split\n",
    "X_train, X_test, y_train, y_test = train_test_split(X, y)"
   ]
  },
  {
   "cell_type": "code",
   "execution_count": 10,
   "metadata": {},
   "outputs": [],
   "source": [
    "#sklearn 내에 preprocessing의 StandardScaler를 로드\n",
    "#StandardScaler는 정규화를 시키는 함수\n",
    "#StandardScaler는 데이터의 범위를 평균0, 표준편차 1의 범위로 바꿔주는 함수\n",
    "#그리고 StandardScalar를 Scaler라는 변수에 저장해 사용\n",
    "from sklearn.preprocessing import StandardScaler\n",
    "scaler = StandardScaler()"
   ]
  },
  {
   "cell_type": "code",
   "execution_count": 11,
   "metadata": {},
   "outputs": [
    {
     "data": {
      "text/plain": [
       "StandardScaler()"
      ]
     },
     "execution_count": 11,
     "metadata": {},
     "output_type": "execute_result"
    }
   ],
   "source": [
    "#StandardScaler를 담은 변수에 X_train을 학습해 데이터를 정규화\n",
    "scaler.fit(X_train)"
   ]
  },
  {
   "cell_type": "code",
   "execution_count": 12,
   "metadata": {},
   "outputs": [],
   "source": [
    "#X_train과 X_test를 StandardScaler를 이용해 정규화\n",
    "X_train = scaler.transform(X_train)\n",
    "X_test = scaler.transform(X_test)"
   ]
  },
  {
   "cell_type": "code",
   "execution_count": 13,
   "metadata": {},
   "outputs": [],
   "source": [
    "#다중인공신경망(MLP) 분류 알고리즘을 sklearn의 neural_network에서 로드\n",
    "from sklearn.neural_network import MLPClassifier\n",
    "\n",
    "#MLP 알고리즘의  히든레이어를 3계층(10, 10, 10)으로 할당\n",
    "mlp = MLPClassifier(hidden_layer_sizes=(10, 10, 10))"
   ]
  },
  {
   "cell_type": "code",
   "execution_count": 14,
   "metadata": {},
   "outputs": [
    {
     "name": "stderr",
     "output_type": "stream",
     "text": [
      "C:\\Users\\ok\\anaconda3\\lib\\site-packages\\sklearn\\neural_network\\_multilayer_perceptron.py:582: ConvergenceWarning: Stochastic Optimizer: Maximum iterations (200) reached and the optimization hasn't converged yet.\n",
      "  warnings.warn(\n"
     ]
    },
    {
     "data": {
      "text/plain": [
       "MLPClassifier(hidden_layer_sizes=(10, 10, 10))"
      ]
     },
     "execution_count": 14,
     "metadata": {},
     "output_type": "execute_result"
    }
   ],
   "source": [
    "#위에서 분류한 X_train과 y_train을 MLP를 이용해 학습\n",
    "mlp.fit(X_train, y_train)"
   ]
  },
  {
   "cell_type": "code",
   "execution_count": 15,
   "metadata": {},
   "outputs": [],
   "source": [
    "#mlp로 학습한 내용을 X_test에 대해 예측하여 predictions변수에 저장\n",
    "predictions = mlp.predict(X_test)"
   ]
  },
  {
   "cell_type": "code",
   "execution_count": 17,
   "metadata": {},
   "outputs": [
    {
     "name": "stdout",
     "output_type": "stream",
     "text": [
      "[[14  0  0]\n",
      " [ 0 11  1]\n",
      " [ 0  0 12]]\n"
     ]
    }
   ],
   "source": [
    "#sklearn.metrics의 confusion_matrix와 classification_report를 로드\n",
    "#confusion_matrix는 데이터가 맞는지의 유무를 판단\n",
    "#classification_report는 precision과 recall 그리고 f1_score등을 계산해 정확률에 대해 계산\n",
    "from sklearn.metrics import classification_report, confusion_matrix\n",
    "\n",
    "#confusion_matix를 이용해 실제값 y_test와 예측값에 대해 비교\n",
    "print(confusion_matrix(y_test, predictions))"
   ]
  },
  {
   "cell_type": "code",
   "execution_count": 18,
   "metadata": {},
   "outputs": [
    {
     "name": "stdout",
     "output_type": "stream",
     "text": [
      "              precision    recall  f1-score   support\n",
      "\n",
      "           0       1.00      1.00      1.00        14\n",
      "           1       1.00      0.92      0.96        12\n",
      "           2       0.92      1.00      0.96        12\n",
      "\n",
      "    accuracy                           0.97        38\n",
      "   macro avg       0.97      0.97      0.97        38\n",
      "weighted avg       0.98      0.97      0.97        38\n",
      "\n"
     ]
    }
   ],
   "source": [
    "#classification_report를 이용해 정확률, 재현율, f1-score를 확인\n",
    "print(classification_report(y_test, predictions))"
   ]
  },
  {
   "cell_type": "code",
   "execution_count": null,
   "metadata": {},
   "outputs": [],
   "source": [
    "from sklearn.neural_network import MLPClassifier\n",
    "from sklearn import datasets\n",
    "from sklearn.cross_validation import train_test_split\n",
    "from sklearn.preprocessing import StandardScaler\n",
    "digits = datasets.load_digits() # digits 데이터\n",
    "X = digits.data #feature 값\n",
    "y = digits.target #target 값\n",
    "X_train, X_test, y_train, y_test = train_test_split(X,y,test_size=0.2) # 분류\n",
    "scaler = StandardScaler() # 데이터 정규화 함수 생성\n",
    "scaler.fit(X_train) # 데이터 정규화 함수 학습\n",
    "X_train = scaler.transform(X_train) # 데이터 정규화\n",
    "X_test = scaler.transform(X_test) # 데이터 정규화\n",
    "ANN = MLPClassifier(hidden_layer_sizes=(10,10,10)).fit(X_train, y_train) # 모델 생성, 학습\n",
    "print(ANN.score(X=X_test, y=y_test)) # accuracy 값 측정"
   ]
  }
 ],
 "metadata": {
  "kernelspec": {
   "display_name": "Python 3",
   "language": "python",
   "name": "python3"
  },
  "language_info": {
   "codemirror_mode": {
    "name": "ipython",
    "version": 3
   },
   "file_extension": ".py",
   "mimetype": "text/x-python",
   "name": "python",
   "nbconvert_exporter": "python",
   "pygments_lexer": "ipython3",
   "version": "3.8.5"
  }
 },
 "nbformat": 4,
 "nbformat_minor": 4
}
