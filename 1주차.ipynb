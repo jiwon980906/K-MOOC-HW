{
 "cells": [
  {
   "cell_type": "code",
   "execution_count": 1,
   "metadata": {},
   "outputs": [],
   "source": [
    "a = 'python'"
   ]
  },
  {
   "cell_type": "code",
   "execution_count": 3,
   "metadata": {},
   "outputs": [],
   "source": [
    "a = 'python'\n",
    "b = 123\n",
    "c = 1,2 \n",
    "d = ['a', 'b']\n",
    "e = {'name', 'lee'}"
   ]
  },
  {
   "cell_type": "code",
   "execution_count": 4,
   "metadata": {},
   "outputs": [],
   "source": [
    "a = 100 #주석문을 나타내는 방법"
   ]
  },
  {
   "cell_type": "code",
   "execution_count": 5,
   "metadata": {},
   "outputs": [
    {
     "name": "stdout",
     "output_type": "stream",
     "text": [
      "var1\n",
      "var2\n",
      "{'Tuple2', 'Tuple1'}\n",
      "['list1', 'list1']\n"
     ]
    }
   ],
   "source": [
    "a,b = 'var1', 'var2'\n",
    "\n",
    "\n",
    "c = {'Tuple1', 'Tuple2'}\n",
    "\n",
    "d = ['list1', 'list1']\n",
    "\n",
    "print(a)\n",
    "print(b)\n",
    "print(c)\n",
    "print(d)"
   ]
  },
  {
   "cell_type": "code",
   "execution_count": 8,
   "metadata": {},
   "outputs": [
    {
     "name": "stdout",
     "output_type": "stream",
     "text": [
      "a의 값은? 100\n",
      "a의 데이터 변수의 형태는?: <class 'int'>\n",
      "b의 값은? (3, 14)\n",
      "b의 데이터 변수 형태는?: <class 'tuple'>\n",
      "c의 값은? True\n",
      "c의 데이터 변수 형태는?: <class 'bool'>\n"
     ]
    }
   ],
   "source": [
    "a = 100  #a변수에 100의 값을 할당\n",
    "b = 3,14  #b변수에 3.14의 값을 할당\n",
    "c = True  #c변수에 True라는 값을 할당\n",
    "print(\"a의 값은?\", a)  \n",
    "print(\"a의 데이터 변수의 형태는?:\", type(a))  #a는 int형태의 값을 나타냄\n",
    "print(\"b의 값은?\", b)\n",
    "print(\"b의 데이터 변수 형태는?:\", type(b))   #b는 float형태의 값을 나타냄\n",
    "print(\"c의 값은?\", c)\n",
    "print(\"c의 데이터 변수 형태는?:\", type(c))   #c는 Boolean형태의 값을 나타냄"
   ]
  },
  {
   "cell_type": "code",
   "execution_count": 10,
   "metadata": {},
   "outputs": [
    {
     "name": "stdout",
     "output_type": "stream",
     "text": [
      "100\n",
      "0b1100100\n",
      "0o144\n",
      "0x64\n"
     ]
    }
   ],
   "source": [
    "a = 100   #정수형변수\n",
    "b = 3.14  #소수형 변수\n",
    "\n",
    "print(a)        #정수\n",
    "print(bin(a))   #2진수\n",
    "print(oct(a))   #8진수\n",
    "print(hex(a))   #16진수"
   ]
  },
  {
   "cell_type": "code",
   "execution_count": 11,
   "metadata": {},
   "outputs": [
    {
     "data": {
      "text/plain": [
       "bool"
      ]
     },
     "execution_count": 11,
     "metadata": {},
     "output_type": "execute_result"
    }
   ],
   "source": [
    "a = True\n",
    "type(a)"
   ]
  },
  {
   "cell_type": "code",
   "execution_count": 12,
   "metadata": {},
   "outputs": [
    {
     "data": {
      "text/plain": [
       "bool"
      ]
     },
     "execution_count": 12,
     "metadata": {},
     "output_type": "execute_result"
    }
   ],
   "source": [
    "b = False\n",
    "type(b)"
   ]
  },
  {
   "cell_type": "code",
   "execution_count": 13,
   "metadata": {},
   "outputs": [
    {
     "name": "stdout",
     "output_type": "stream",
     "text": [
      "True\n",
      "False\n",
      "False\n",
      "False\n",
      "True\n",
      "True\n"
     ]
    }
   ],
   "source": [
    "print(10 == 10)        # 두 값이 같은 경우 True를 출력\n",
    "print(10 != 10)        #두 값이 같은 경우 Flase를 출력\n",
    "print(10 < 10)\n",
    "#두 값 중 좌측에 속해있는 값이 큰 경우 True를 출력, 그렇지 않을 경우 False를 출력\n",
    "print(10 > 10)\n",
    "#두 값 중 우측에 속해있는 값이 큰 경우 True를 출력, 그렇지 않을 경우 False를 출력\n",
    "print(10 <= 10)\n",
    "#두 값 중 좌측에 속해있는 값이 크거나 같은 경우 True를 출력, 그렇지 않을 경우 False를 출력\n",
    "print(10 >= 10)"
   ]
  },
  {
   "cell_type": "code",
   "execution_count": 22,
   "metadata": {},
   "outputs": [
    {
     "data": {
      "text/plain": [
       "'안녕하세요반갑습니다.'"
      ]
     },
     "execution_count": 22,
     "metadata": {},
     "output_type": "execute_result"
    }
   ],
   "source": [
    "#sentence라는 변수에 두 개의 문자열을 넣음\n",
    "sentence = \"안녕하세요\" + \"반갑습니다.\"\n",
    "sentence"
   ]
  },
  {
   "cell_type": "code",
   "execution_count": 23,
   "metadata": {},
   "outputs": [
    {
     "data": {
      "text/plain": [
       "['안녕하세요반갑습니다.']"
      ]
     },
     "execution_count": 23,
     "metadata": {},
     "output_type": "execute_result"
    }
   ],
   "source": [
    "sentence.split()\n",
    "#sentence라는 변수를 공백 기준으로 나누기 위해 split함수를 사용"
   ]
  },
  {
   "cell_type": "code",
   "execution_count": 24,
   "metadata": {},
   "outputs": [
    {
     "data": {
      "text/plain": [
       "5"
      ]
     },
     "execution_count": 24,
     "metadata": {},
     "output_type": "execute_result"
    }
   ],
   "source": [
    "#sentence라는 변수에 '반갑습니다'라는 단어를 찾기 위해 find함수 사용\n",
    "sentence.find('반갑습니다.')"
   ]
  },
  {
   "cell_type": "code",
   "execution_count": 25,
   "metadata": {},
   "outputs": [
    {
     "data": {
      "text/plain": [
       "-1"
      ]
     },
     "execution_count": 25,
     "metadata": {},
     "output_type": "execute_result"
    }
   ],
   "source": [
    "#sentence라는 변수에 찾으려는 해당 문자열이 없을 시 -1을 변환\n",
    "sentence.find('python')"
   ]
  },
  {
   "cell_type": "code",
   "execution_count": 26,
   "metadata": {},
   "outputs": [
    {
     "data": {
      "text/plain": [
       "'안녕하세요반갑습니다T'"
      ]
     },
     "execution_count": 26,
     "metadata": {},
     "output_type": "execute_result"
    }
   ],
   "source": [
    "#sentence라는 변수에서 '.'문자를 'T'문자로 변환하기 위해 replace함수를 사용\n",
    "sentence.replace('.','T')"
   ]
  },
  {
   "cell_type": "code",
   "execution_count": 27,
   "metadata": {},
   "outputs": [
    {
     "data": {
      "text/plain": [
       "'하세요반갑습니다.'"
      ]
     },
     "execution_count": 27,
     "metadata": {},
     "output_type": "execute_result"
    }
   ],
   "source": [
    "#sentence라는 변수에서 '안녕'이라는 문자를 제거하기 위해 strip 함수 사용\n",
    "sentence.strip('안녕')"
   ]
  },
  {
   "cell_type": "code",
   "execution_count": 29,
   "metadata": {},
   "outputs": [
    {
     "name": "stdout",
     "output_type": "stream",
     "text": [
      "[10, 20, 30, 40, 50, 60]\n",
      "<class 'list'>\n",
      "10\n",
      "50\n",
      "[10, 20, 30, 40, 50, 60]\n",
      "[50, 20, 30, 40, 50, 60]\n"
     ]
    }
   ],
   "source": [
    "#리스트의 형태\n",
    "data = [10,20, 30, 40, 50, 60]    #data를 list 형태로 생성\n",
    "print(data)                       #data 값을 출력\n",
    "print(type(data))                 #data에 저장된 형태를 나타냄\n",
    "\n",
    "print(data[0])                    #list 형태의 data[0]번째를 출력\n",
    "print(data[4])                    #list 형태의 data[4]번째를 출력\n",
    "print(data)                       #data에 저장된 값을 출력\n",
    "data[0] = data[4]                 #data[4]번째 값을 data[0]번째에도 같이 저장\n",
    "print(data)                       #바뀐 data변수를 출력"
   ]
  },
  {
   "cell_type": "code",
   "execution_count": 30,
   "metadata": {},
   "outputs": [
    {
     "name": "stdout",
     "output_type": "stream",
     "text": [
      "['사과', '배', '포도', '딸기', '토마토', '메론']\n",
      "리스트 인덱싱을 통해 하나의 값을 표현: 사과\n"
     ]
    }
   ],
   "source": [
    "#data변수 안에 저장된 리스트 목록\n",
    "data = [\"사과\", \"배\", \"포도\", \"딸기\", \"토마토\", \"메론\"]\n",
    "print(data)\n",
    "\n",
    "#인덱싱을 통해 리스트 내의 한의 값을 표현하는 방법\n",
    "print(\"리스트 인덱싱을 통해 하나의 값을 표현:\",data[0])"
   ]
  },
  {
   "cell_type": "code",
   "execution_count": 31,
   "metadata": {},
   "outputs": [
    {
     "name": "stdout",
     "output_type": "stream",
     "text": [
      "리스트 인덱싱을 통해 하나의 값을 표현: ['포도', '딸기']\n"
     ]
    }
   ],
   "source": [
    "data = [\"사과\", \"배\", \"포도\", \"딸기\", \"토마토\", \"메론\"]\n",
    "\n",
    "#슬라이싱을 통해 리스트 내의 다수의 값을 나타낼 때 표현하는 방법\n",
    "print(\"리스트 인덱싱을 통해 하나의 값을 표현:\", data[2:4])"
   ]
  },
  {
   "cell_type": "code",
   "execution_count": 33,
   "metadata": {},
   "outputs": [
    {
     "data": {
      "text/plain": [
       "[10, 20, 30, 40, 50, 5, 10, 15, 20, 25]"
      ]
     },
     "execution_count": 33,
     "metadata": {},
     "output_type": "execute_result"
    }
   ],
   "source": [
    "data_1 = [10, 20, 30, 40, 50]    #리스트형 data_1의 값\n",
    "data_2 = [5, 10, 15, 20, 25]     #리스트형 data_2의 값\n",
    "\n",
    "#data_1과 data_2를 합쳤을 때 하나로 합쳐진 데이터 형태를 볼 수 있음\n",
    "data_1 + data_2"
   ]
  },
  {
   "cell_type": "code",
   "execution_count": 34,
   "metadata": {},
   "outputs": [
    {
     "name": "stdout",
     "output_type": "stream",
     "text": [
      "<class 'list'>\n",
      "<class 'list'>\n",
      "\n",
      "py라는 값을 추가한 후의 lists:  [1, 100, 'python', 'py']\n"
     ]
    }
   ],
   "source": [
    "lists = [1, 100, 'python']\n",
    "print(list)\n",
    "print(type(lists))\n",
    "print()\n",
    "#lists의 리스트에 py라는 값을 append함수를 이용해 데이터를 추가\n",
    "lists.append('py')\n",
    "print(\"py라는 값을 추가한 후의 lists: \", lists)   #lists에 추가된 py라는 값을 확인"
   ]
  },
  {
   "cell_type": "code",
   "execution_count": 40,
   "metadata": {},
   "outputs": [
    {
     "name": "stdout",
     "output_type": "stream",
     "text": [
      "[1, 100, 'python']\n",
      "<class 'list'>\n",
      "\n"
     ]
    },
    {
     "data": {
      "text/plain": [
       "[1, '0.5', 100, 'python']"
      ]
     },
     "execution_count": 40,
     "metadata": {},
     "output_type": "execute_result"
    }
   ],
   "source": [
    "lists = [1, 100, 'python']\n",
    "print(lists)\n",
    "print(type(lists))\n",
    "print()\n",
    "\n",
    "#lists의 리스트에 py라는 값을 insert함수를 이용해 데이터를 추가\n",
    "lists.insert(1, '0.5')\n",
    "lists"
   ]
  },
  {
   "cell_type": "code",
   "execution_count": 41,
   "metadata": {},
   "outputs": [
    {
     "name": "stdout",
     "output_type": "stream",
     "text": [
      "[1, '0.5', 100, 'python']\n",
      "[1, '0.5', 100]\n"
     ]
    }
   ],
   "source": [
    "print(lists)\n",
    "\n",
    "lists.remove('python')   #remove함수를 이용해 리스트의 'python'값을 제거\n",
    "print(lists)"
   ]
  },
  {
   "cell_type": "code",
   "execution_count": 43,
   "metadata": {},
   "outputs": [
    {
     "name": "stdout",
     "output_type": "stream",
     "text": [
      "리스트 내에서 최소값을 찾을 때:  10\n",
      "리스트 내에서 최소값을 찾을 때:  70\n"
     ]
    }
   ],
   "source": [
    "data_list = [10, 20, 30, 40, 50, 60, 70]\n",
    "\n",
    "#min함수를 이용해 리스트 데이처 중 최소값을 검색\n",
    "print(\"리스트 내에서 최소값을 찾을 때: \", min(data_list))\n",
    "\n",
    "#max함수를 이용해 리스트 데이처 중 최소값을 검색\n",
    "print(\"리스트 내에서 최소값을 찾을 때: \", max(data_list))"
   ]
  },
  {
   "cell_type": "code",
   "execution_count": 44,
   "metadata": {},
   "outputs": [
    {
     "name": "stdout",
     "output_type": "stream",
     "text": [
      "[10, 20, 30, 40, 50, 60, 90]\n"
     ]
    }
   ],
   "source": [
    "data_list = [50, 20, 40, 30, 10, 60, 90]\n",
    "\n",
    "#sort함수를 이용해 리스트 데이터의 순서를 정렬\n",
    "data_list.sort()\n",
    "print(data_list)"
   ]
  },
  {
   "cell_type": "code",
   "execution_count": 45,
   "metadata": {},
   "outputs": [
    {
     "name": "stdout",
     "output_type": "stream",
     "text": [
      "[1, 2, 3, 4, 5, 6, 1]\n"
     ]
    }
   ],
   "source": [
    "a = [1, 2, 3, 4, 5]\n",
    "b = [1, 5]\n",
    "a.append(6)\n",
    "b.remove(5)\n",
    "print(a+b)"
   ]
  },
  {
   "cell_type": "code",
   "execution_count": null,
   "metadata": {},
   "outputs": [],
   "source": []
  }
 ],
 "metadata": {
  "kernelspec": {
   "display_name": "Python 3",
   "language": "python",
   "name": "python3"
  },
  "language_info": {
   "codemirror_mode": {
    "name": "ipython",
    "version": 3
   },
   "file_extension": ".py",
   "mimetype": "text/x-python",
   "name": "python",
   "nbconvert_exporter": "python",
   "pygments_lexer": "ipython3",
   "version": "3.8.5"
  }
 },
 "nbformat": 4,
 "nbformat_minor": 4
}
