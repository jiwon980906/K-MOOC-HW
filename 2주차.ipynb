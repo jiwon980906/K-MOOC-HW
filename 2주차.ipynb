{
 "cells": [
  {
   "cell_type": "code",
   "execution_count": 1,
   "metadata": {},
   "outputs": [
    {
     "name": "stdout",
     "output_type": "stream",
     "text": [
      "('사과', '배', '포도', '토마토', '딸기')\n",
      "<class 'tuple'>\n"
     ]
    }
   ],
   "source": [
    "#튜플의 기본 구조\n",
    "data = (\"사과\", \"배\", \"포도\", \"토마토\", \"딸기\")\n",
    "\n",
    "print(data)\n",
    "print(type(data))"
   ]
  },
  {
   "cell_type": "code",
   "execution_count": 2,
   "metadata": {},
   "outputs": [
    {
     "ename": "TypeError",
     "evalue": "'tuple' object does not support item assignment",
     "output_type": "error",
     "traceback": [
      "\u001b[1;31m---------------------------------------------------------------------------\u001b[0m",
      "\u001b[1;31mTypeError\u001b[0m                                 Traceback (most recent call last)",
      "\u001b[1;32m<ipython-input-2-45d361597181>\u001b[0m in \u001b[0;36m<module>\u001b[1;34m\u001b[0m\n\u001b[1;32m----> 1\u001b[1;33m \u001b[0mdata\u001b[0m\u001b[1;33m[\u001b[0m\u001b[1;36m0\u001b[0m\u001b[1;33m]\u001b[0m \u001b[1;33m=\u001b[0m \u001b[1;36m100\u001b[0m\u001b[1;33m\u001b[0m\u001b[1;33m\u001b[0m\u001b[0m\n\u001b[0m",
      "\u001b[1;31mTypeError\u001b[0m: 'tuple' object does not support item assignment"
     ]
    }
   ],
   "source": [
    "data[0] = 100"
   ]
  },
  {
   "cell_type": "code",
   "execution_count": 3,
   "metadata": {},
   "outputs": [
    {
     "name": "stdout",
     "output_type": "stream",
     "text": [
      "<class 'tuple'>\n",
      "3\n"
     ]
    }
   ],
   "source": [
    "data = (100, 200, 100, 300, 100, 500)\n",
    "print(type(data))\n",
    "#튜플은 count함수를 이용해 해당 데이터의 개수를 확인가능함\n",
    "print(data.count(100))"
   ]
  },
  {
   "cell_type": "code",
   "execution_count": 4,
   "metadata": {},
   "outputs": [
    {
     "name": "stdout",
     "output_type": "stream",
     "text": [
      "<class 'tuple'>\n",
      "(100, 300)\n"
     ]
    }
   ],
   "source": [
    "data = (100, 200, 100, 300, 100, 500)\n",
    "print(type(data))\n",
    "\n",
    "#튜플은 리스트와 같이 데이터의 슬라이싱이 가능\n",
    "print(data[2:4])"
   ]
  },
  {
   "cell_type": "code",
   "execution_count": 5,
   "metadata": {},
   "outputs": [
    {
     "name": "stdout",
     "output_type": "stream",
     "text": [
      "('사과', '배', '포도', '토마토', '딸기', 100, 200, 300, 400, 500)\n"
     ]
    }
   ],
   "source": [
    "data1 = (\"사과\", \"배\", \"포도\", \"토마토\", \"딸기\")\n",
    "data2 = (100, 200, 300, 400, 500)\n",
    "\n",
    "#두 개의 튜플데이터를 덧셈연산자를 통해 하나로 합침\n",
    "data = data1 + data2\n",
    "print(data)"
   ]
  },
  {
   "cell_type": "code",
   "execution_count": 6,
   "metadata": {},
   "outputs": [
    {
     "name": "stdout",
     "output_type": "stream",
     "text": [
      "('사과', '배', '포도', '토마토', '딸기', '사과', '배', '포도', '토마토', '딸기')\n"
     ]
    }
   ],
   "source": [
    "data = (\"사과\", \"배\", \"포도\", \"토마토\", \"딸기\")\n",
    "\n",
    "#튜플 데이터는 곱셈연산자를 이용해 데이터를 반복할 수 있음\n",
    "print(data*2)"
   ]
  },
  {
   "cell_type": "code",
   "execution_count": 7,
   "metadata": {},
   "outputs": [
    {
     "name": "stdout",
     "output_type": "stream",
     "text": [
      "{200, 100, 300}\n",
      "<class 'set'>\n"
     ]
    }
   ],
   "source": [
    "data = {100, 200, 300}\n",
    "print(data)\n",
    "print(type(data))"
   ]
  },
  {
   "cell_type": "code",
   "execution_count": 8,
   "metadata": {},
   "outputs": [
    {
     "name": "stdout",
     "output_type": "stream",
     "text": [
      "{100, 200, 300, 400, 500, 600, 700}\n",
      "<class 'set'>\n"
     ]
    },
    {
     "ename": "TypeError",
     "evalue": "'set' object is not subscriptable",
     "output_type": "error",
     "traceback": [
      "\u001b[1;31m---------------------------------------------------------------------------\u001b[0m",
      "\u001b[1;31mTypeError\u001b[0m                                 Traceback (most recent call last)",
      "\u001b[1;32m<ipython-input-8-7aca71df639e>\u001b[0m in \u001b[0;36m<module>\u001b[1;34m\u001b[0m\n\u001b[0;32m      4\u001b[0m \u001b[1;33m\u001b[0m\u001b[0m\n\u001b[0;32m      5\u001b[0m \u001b[1;31m#set 자료구조는 인덱싱과 슬라이싱이 불가능\u001b[0m\u001b[1;33m\u001b[0m\u001b[1;33m\u001b[0m\u001b[1;33m\u001b[0m\u001b[0m\n\u001b[1;32m----> 6\u001b[1;33m \u001b[0mdata\u001b[0m\u001b[1;33m[\u001b[0m\u001b[1;36m0\u001b[0m\u001b[1;33m:\u001b[0m\u001b[1;36m4\u001b[0m\u001b[1;33m]\u001b[0m\u001b[1;33m\u001b[0m\u001b[1;33m\u001b[0m\u001b[0m\n\u001b[0m",
      "\u001b[1;31mTypeError\u001b[0m: 'set' object is not subscriptable"
     ]
    }
   ],
   "source": [
    "data = {100, 200, 300, 400, 500, 600, 700}\n",
    "print(data)\n",
    "print(type(data))\n",
    "\n",
    "#set 자료구조는 인덱싱과 슬라이싱이 불가능\n",
    "data[0:4]"
   ]
  },
  {
   "cell_type": "code",
   "execution_count": 10,
   "metadata": {},
   "outputs": [
    {
     "name": "stdout",
     "output_type": "stream",
     "text": [
      "{100, 200, 300, 400, 500, 600}\n",
      "{100, 200, 300, 400, 500, 600, 700}\n"
     ]
    }
   ],
   "source": [
    "data = {100, 200, 300, 400, 500, 600}\n",
    "print(data)\n",
    "\n",
    "#세트 자료구조는 add함수를 이용해 데이터를 추가할 수 있음\n",
    "data.add(700)\n",
    "print(data)"
   ]
  },
  {
   "cell_type": "code",
   "execution_count": 11,
   "metadata": {},
   "outputs": [
    {
     "name": "stdout",
     "output_type": "stream",
     "text": [
      "여러개의 데이터를 추가하기 전\n",
      "{100}\n",
      "\n",
      "여러개의 데이터를 추가한 후\n",
      "{100, 200, 300, 400, 500, 600}\n"
     ]
    }
   ],
   "source": [
    "data = {100}\n",
    "print(\"여러개의 데이터를 추가하기 전\")\n",
    "print(data)\n",
    "\n",
    "print()\n",
    "#세트 자료구조에서 여러개의 데이터를 추가할 때는 update함수를 이용해 추가\n",
    "data.update([200, 300, 400, 500, 600])\n",
    "print(\"여러개의 데이터를 추가한 후\")\n",
    "print(data)"
   ]
  },
  {
   "cell_type": "code",
   "execution_count": 12,
   "metadata": {},
   "outputs": [
    {
     "name": "stdout",
     "output_type": "stream",
     "text": [
      "데이터를 삭제하기 전\n",
      "{100, 200, 300, 400, 500, 600}\n",
      "\n",
      "데이터를 삭제한 후\n",
      "{100, 200, 300, 400, 500}\n"
     ]
    }
   ],
   "source": [
    "data = {100, 200, 300, 400, 500, 600}\n",
    "print(\"데이터를 삭제하기 전\")\n",
    "print(data)\n",
    "\n",
    "print()\n",
    "#세트 자료구조에서는 remove를 이용해 데이터를 제거\n",
    "data.remove(600)\n",
    "print(\"데이터를 삭제한 후\")\n",
    "print(data)"
   ]
  },
  {
   "cell_type": "code",
   "execution_count": 13,
   "metadata": {},
   "outputs": [
    {
     "name": "stdout",
     "output_type": "stream",
     "text": [
      "데이터를 삭제하기 전\n",
      "{100, 200, 300, 400, 500, 600}\n",
      "\n",
      "set()\n"
     ]
    }
   ],
   "source": [
    "data = {100, 200, 300, 400, 500, 600}\n",
    "print(\"데이터를 삭제하기 전\")\n",
    "print(data)\n",
    "\n",
    "print()\n",
    "#세트 자료구조에서 clear를 이용해 전체 데이터를 초기화\n",
    "data.clear()\n",
    "print(data)"
   ]
  },
  {
   "cell_type": "code",
   "execution_count": 14,
   "metadata": {},
   "outputs": [
    {
     "name": "stdout",
     "output_type": "stream",
     "text": [
      "{100, 200, 300, 400, 500}\n",
      "<class 'set'>\n",
      "{100, 200, 300, 150, 250}\n",
      "<class 'set'>\n",
      "\n",
      "intersection은 교집합을 나타내는 함수\n",
      "{200, 100, 300}\n"
     ]
    }
   ],
   "source": [
    "A = {100, 200, 300, 400, 500}\n",
    "B = {100, 150, 200, 250, 300}\n",
    "print(A)\n",
    "print(type(A))\n",
    "print(B)\n",
    "print(type(B))\n",
    "\n",
    "#intersect함수는 교집합을 나타내는 함수\n",
    "print()\n",
    "print(\"intersection은 교집합을 나타내는 함수\")\n",
    "print(A.intersection(B))"
   ]
  },
  {
   "cell_type": "code",
   "execution_count": 15,
   "metadata": {},
   "outputs": [
    {
     "name": "stdout",
     "output_type": "stream",
     "text": [
      "{100, 200, 300, 400, 500}\n",
      "<class 'set'>\n",
      "{100, 200, 300, 150, 250}\n",
      "<class 'set'>\n",
      "\n",
      "difference은 차집합을 나타내는 함수\n",
      "{400, 500}\n"
     ]
    }
   ],
   "source": [
    "A = {100, 200, 300, 400, 500}\n",
    "B = {100, 150, 200, 250, 300}\n",
    "print(A)\n",
    "print(type(A))\n",
    "print(B)\n",
    "print(type(B))\n",
    "\n",
    "#idifference함수는 차집합을 나타내는 함수\n",
    "print()\n",
    "print(\"difference은 차집합을 나타내는 함수\")\n",
    "print(A.difference(B))"
   ]
  },
  {
   "cell_type": "code",
   "execution_count": 16,
   "metadata": {},
   "outputs": [
    {
     "name": "stdout",
     "output_type": "stream",
     "text": [
      "{100, 200, 300, 400, 500}\n",
      "<class 'set'>\n",
      "{100, 200, 300, 150, 250}\n",
      "<class 'set'>\n",
      "\n",
      "union은 합집합을 나타내는 함수\n",
      "{100, 200, 300, 400, 500, 150, 250}\n"
     ]
    }
   ],
   "source": [
    "A = {100, 200, 300, 400, 500}\n",
    "B = {100, 150, 200, 250, 300}\n",
    "print(A)\n",
    "print(type(A))\n",
    "print(B)\n",
    "print(type(B))\n",
    "\n",
    "#union함수는 합집합을 나타내는 함수\n",
    "print()\n",
    "print(\"union은 합집합을 나타내는 함수\")\n",
    "print(A.union(B))"
   ]
  },
  {
   "cell_type": "code",
   "execution_count": 17,
   "metadata": {},
   "outputs": [
    {
     "name": "stdout",
     "output_type": "stream",
     "text": [
      "{100, 200, 300, 400, 500}\n",
      "<class 'set'>\n",
      "{100, 200, 300, 150, 250}\n",
      "<class 'set'>\n",
      "\n",
      "symmetric_difference함수는 합집합에서 교집합을 뺀 나머지 집합을 나타내는 함수\n",
      "{400, 500, 150, 250}\n"
     ]
    }
   ],
   "source": [
    "A = {100, 200, 300, 400, 500}\n",
    "B = {100, 150, 200, 250, 300}\n",
    "print(A)\n",
    "print(type(A))\n",
    "print(B)\n",
    "print(type(B))\n",
    "\n",
    "#symmetric_difference함수는 합집합에서 교집합을 뺀 나머지 집합을 나타내는 함수\n",
    "print()\n",
    "print(\"symmetric_difference함수는 합집합에서 교집합을 뺀 나머지 집합을 나타내는 함수\")\n",
    "print(A.symmetric_difference(B))"
   ]
  },
  {
   "cell_type": "code",
   "execution_count": 20,
   "metadata": {},
   "outputs": [
    {
     "data": {
      "text/plain": [
       "dict"
      ]
     },
     "execution_count": 20,
     "metadata": {},
     "output_type": "execute_result"
    }
   ],
   "source": [
    "dictionary = {\n",
    "                'Name' : '홍길동',\n",
    "                'Email' : 'gdHong@naver.com',\n",
    "                '주소' : '서울시 광진구'\n",
    "             }\n",
    "type(dictionary)"
   ]
  },
  {
   "cell_type": "code",
   "execution_count": 25,
   "metadata": {},
   "outputs": [
    {
     "name": "stdout",
     "output_type": "stream",
     "text": [
      "{'사과': 300, '배': 200, '포도': 500, '딸기': 700}\n",
      "<class 'dict'>\n"
     ]
    }
   ],
   "source": [
    "#딕셔너리(dictionary)의 기본 구조는 다음과 같이 표현할 수 있음\n",
    "data = {\"사과\":300, \"배\":200, \"포도\":500, \"딸기\":700}\n",
    "print(data)\n",
    "print(type(data))"
   ]
  },
  {
   "cell_type": "code",
   "execution_count": 26,
   "metadata": {},
   "outputs": [
    {
     "name": "stdout",
     "output_type": "stream",
     "text": [
      "300\n",
      "300\n"
     ]
    }
   ],
   "source": [
    "#딕셔너리 데이터 예제를 data변수에 입력\n",
    "data = {\"사과\":300, \"배\":200, \"포도\":500, \"딸기\":700}\n",
    "\n",
    "#항목 검색할 때 항목의 키를 사용하면 됨\n",
    "#위에서 키값 중 사과에 대한 값을 갖고 옴\n",
    "print(data[\"사과\"])\n",
    "\n",
    "#위와 같이 표현도 가능하지만 아래와 같이 get함수를 이요해 효현도 가능\n",
    "print(data.get(\"사과\"))"
   ]
  },
  {
   "cell_type": "code",
   "execution_count": 27,
   "metadata": {},
   "outputs": [
    {
     "name": "stdout",
     "output_type": "stream",
     "text": [
      "추가하기 전 딕셔너리 전체 데이터\n",
      "{'사과': 300, '배': 200, '포도': 500, '딸기': 700}\n",
      "\n",
      "추가한 후 딕셔너리 전체 데이터\n",
      "{'사과': 300, '배': 200, '포도': 500, '딸기': 700, '메론': 1000}\n"
     ]
    }
   ],
   "source": [
    "#딕셔너리 데이터 예제를 data변수에 입력\n",
    "data = {\"사과\":300, \"배\":200, \"포도\":500, \"딸기\":700}\n",
    "print(\"추가하기 전 딕셔너리 전체 데이터\")\n",
    "print(data)\n",
    "\n",
    "print()\n",
    "\n",
    "#딕셔너리에 데이터를 추가할 때는 아래와 같이 키를 설정하고 값을 입력함\n",
    "data[\"메론\"] = 1000\n",
    "print(\"추가한 후 딕셔너리 전체 데이터\")\n",
    "print(data)"
   ]
  },
  {
   "cell_type": "code",
   "execution_count": 28,
   "metadata": {},
   "outputs": [
    {
     "name": "stdout",
     "output_type": "stream",
     "text": [
      "추가하기 전 딕셔너리 전체 데이터\n",
      "{'사과': 300, '배': 200, '포도': 500, '딸기': 700}\n",
      "\n",
      "삭제한 후 딕셔너리 데이터\n",
      "{'배': 200, '포도': 500, '딸기': 700}\n"
     ]
    }
   ],
   "source": [
    "#딕셔너리 데이터 예제를 data변수에 입력\n",
    "data = {\"사과\":300, \"배\":200, \"포도\":500, \"딸기\":700}\n",
    "print(\"추가하기 전 딕셔너리 전체 데이터\")\n",
    "print(data)\n",
    "\n",
    "print()\n",
    "\n",
    "#딕셔너리는 pop함수를 이용해 데이터를 삭제 가능\n",
    "print(\"삭제한 후 딕셔너리 데이터\")\n",
    "data.pop(\"사과\")\n",
    "print(data)"
   ]
  },
  {
   "cell_type": "code",
   "execution_count": 30,
   "metadata": {},
   "outputs": [
    {
     "name": "stdout",
     "output_type": "stream",
     "text": [
      "추가하기 전 딕셔너리 전체 데이터\n",
      "{'사과': 300, '배': 200, '포도': 500, '딸기': 700}\n",
      "\n",
      "['딸기', '배', '사과', '포도']\n",
      "\n",
      "[200, 300, 500, 700]\n"
     ]
    }
   ],
   "source": [
    "#딕셔너리 데이터 예제를 data변수에 입력\n",
    "data = {\"사과\":300, \"배\":200, \"포도\":500, \"딸기\":700}\n",
    "print(\"추가하기 전 딕셔너리 전체 데이터\")\n",
    "print(data)\n",
    "\n",
    "print()\n",
    "#dorted는 항목을 정렬시키는 내장함수\n",
    "print(sorted(data))\n",
    "\n",
    "#value값을 이용해 정렬하고 싶으면 아래와 같이 실행\n",
    "print()\n",
    "print(sorted(data.values()))"
   ]
  },
  {
   "cell_type": "code",
   "execution_count": 31,
   "metadata": {},
   "outputs": [
    {
     "name": "stdout",
     "output_type": "stream",
     "text": [
      "일치\n"
     ]
    }
   ],
   "source": [
    "a = 100 #변수 a에 초기값으로 100을 저장\n",
    "\n",
    "#변수 z가 100이라는 조건이 맞을 때 '일치'출력, 아니면 '불일치' 출력\n",
    "if a == 100:\n",
    "    print(\"일치\")\n",
    "else:\n",
    "    print(\"불일치\")"
   ]
  },
  {
   "cell_type": "code",
   "execution_count": 32,
   "metadata": {},
   "outputs": [
    {
     "name": "stdout",
     "output_type": "stream",
     "text": [
      "불일치\n"
     ]
    }
   ],
   "source": [
    "a = 200 #변수 a에 초기값으로 200을 저장\n",
    "\n",
    "#변수 z가 100이라는 조건이 맞을 때 '일치'출력, 아니면 '불일치' 출력\n",
    "if a == 100:\n",
    "    print(\"일치\")\n",
    "else:\n",
    "    print(\"불일치\")"
   ]
  },
  {
   "cell_type": "code",
   "execution_count": 34,
   "metadata": {},
   "outputs": [
    {
     "name": "stdout",
     "output_type": "stream",
     "text": [
      "1\n",
      "2\n",
      "3\n",
      "4\n",
      "5\n"
     ]
    }
   ],
   "source": [
    "#while문은 조건문에 만족할때까지 반복적으로 수행을 하지만\n",
    "#중간에 break문을 사용해 강제로 while문을 종료하기도 함\n",
    "\n",
    "a = 1 #변수 a에 초기값 1 저장\n",
    "\n",
    "while a <=5: #while에 대한 조건문으로 변수 a의 값이 5이하가 될 때까지 반복\n",
    "    print(a)   #변수 a 출력 \n",
    "    a += 1    #변수 a에 1씩 더함"
   ]
  },
  {
   "cell_type": "code",
   "execution_count": 35,
   "metadata": {},
   "outputs": [
    {
     "name": "stdout",
     "output_type": "stream",
     "text": [
      "1\n",
      "2\n",
      "3\n",
      "4\n",
      "5\n"
     ]
    }
   ],
   "source": [
    "num_list = [1, 2, 3, 4, 5]  #리스트 구조변수 num_list에 1, 2, 3, 4, 5 값 저장\n",
    "\n",
    "for num in num_list:\n",
    "    print(num)"
   ]
  },
  {
   "cell_type": "code",
   "execution_count": 36,
   "metadata": {},
   "outputs": [
    {
     "data": {
      "text/plain": [
       "12"
      ]
     },
     "execution_count": 36,
     "metadata": {},
     "output_type": "execute_result"
    }
   ],
   "source": [
    "def f(x):\n",
    "    #함수 f(x)를 생성하고 x의 값을 입력 받음\n",
    "    #함수를 실핼했을 때 결과 값으로 x에 10을 더한 결과가 나오게 함\n",
    "    return x + 10\n",
    "f(2)"
   ]
  },
  {
   "cell_type": "code",
   "execution_count": 37,
   "metadata": {},
   "outputs": [
    {
     "name": "stdout",
     "output_type": "stream",
     "text": [
      "20\n",
      "20\n"
     ]
    }
   ],
   "source": [
    "#함수와 lambda의 차이\n",
    "def f(x):\n",
    "    return x + 10\n",
    "\n",
    "#일반적인 함수를 이용해 함수를 구현\n",
    "print(f(10))\n",
    "\n",
    "#lambda를 이용해 함수를 간단하게 구현\n",
    "print((lambda x : x+10)(10))"
   ]
  },
  {
   "cell_type": "code",
   "execution_count": 38,
   "metadata": {},
   "outputs": [
    {
     "ename": "NameError",
     "evalue": "name 'y' is not defined",
     "output_type": "error",
     "traceback": [
      "\u001b[1;31m---------------------------------------------------------------------------\u001b[0m",
      "\u001b[1;31mNameError\u001b[0m                                 Traceback (most recent call last)",
      "\u001b[1;32m<ipython-input-38-67d98b8693e2>\u001b[0m in \u001b[0;36m<module>\u001b[1;34m\u001b[0m\n\u001b[0;32m      2\u001b[0m     \u001b[1;31m#하지만 변수가 없는 값을 입력했을 때는 에려 발생\u001b[0m\u001b[1;33m\u001b[0m\u001b[1;33m\u001b[0m\u001b[1;33m\u001b[0m\u001b[0m\n\u001b[0;32m      3\u001b[0m     \u001b[1;32mreturn\u001b[0m \u001b[0my\u001b[0m\u001b[1;33m+\u001b[0m\u001b[1;36m10\u001b[0m\u001b[1;33m\u001b[0m\u001b[1;33m\u001b[0m\u001b[0m\n\u001b[1;32m----> 4\u001b[1;33m \u001b[0mf\u001b[0m\u001b[1;33m(\u001b[0m\u001b[1;36m2\u001b[0m\u001b[1;33m)\u001b[0m\u001b[1;33m\u001b[0m\u001b[1;33m\u001b[0m\u001b[0m\n\u001b[0m",
      "\u001b[1;32m<ipython-input-38-67d98b8693e2>\u001b[0m in \u001b[0;36mf\u001b[1;34m(x)\u001b[0m\n\u001b[0;32m      1\u001b[0m \u001b[1;32mdef\u001b[0m \u001b[0mf\u001b[0m\u001b[1;33m(\u001b[0m\u001b[0mx\u001b[0m\u001b[1;33m)\u001b[0m\u001b[1;33m:\u001b[0m\u001b[1;33m\u001b[0m\u001b[1;33m\u001b[0m\u001b[0m\n\u001b[0;32m      2\u001b[0m     \u001b[1;31m#하지만 변수가 없는 값을 입력했을 때는 에려 발생\u001b[0m\u001b[1;33m\u001b[0m\u001b[1;33m\u001b[0m\u001b[1;33m\u001b[0m\u001b[0m\n\u001b[1;32m----> 3\u001b[1;33m     \u001b[1;32mreturn\u001b[0m \u001b[0my\u001b[0m\u001b[1;33m+\u001b[0m\u001b[1;36m10\u001b[0m\u001b[1;33m\u001b[0m\u001b[1;33m\u001b[0m\u001b[0m\n\u001b[0m\u001b[0;32m      4\u001b[0m \u001b[0mf\u001b[0m\u001b[1;33m(\u001b[0m\u001b[1;36m2\u001b[0m\u001b[1;33m)\u001b[0m\u001b[1;33m\u001b[0m\u001b[1;33m\u001b[0m\u001b[0m\n",
      "\u001b[1;31mNameError\u001b[0m: name 'y' is not defined"
     ]
    }
   ],
   "source": [
    "def f(x):\n",
    "    #하지만 변수가 없는 값을 입력했을 때는 에려 발생\n",
    "    return y+10\n",
    "f(2)"
   ]
  },
  {
   "cell_type": "code",
   "execution_count": 39,
   "metadata": {},
   "outputs": [
    {
     "name": "stdout",
     "output_type": "stream",
     "text": [
      "문장, 단어를 입력하세요:Text\n",
      "Text\n"
     ]
    }
   ],
   "source": [
    "#Built-in 함수 중 대표함수인 input과 print\n",
    "text = input(\"문장, 단어를 입력하세요:\")\n",
    "print(text)"
   ]
  },
  {
   "cell_type": "code",
   "execution_count": 41,
   "metadata": {},
   "outputs": [
    {
     "data": {
      "text/plain": [
       "[[1, 0, 10.4, 3.2, 5.1, 7.5, 2.7],\n",
       " [1, 0, 10.4, 3.2, 5.1, 7.5, 2.7],\n",
       " [1, 0, 10.4, 3.2, 5.1, 7.5, 2.7]]"
      ]
     },
     "execution_count": 41,
     "metadata": {},
     "output_type": "execute_result"
    }
   ],
   "source": [
    "np = [1, 0, 10.4, 3.2, 5.1, 7.5, 2.7] #변수 rp에 실수 list 생성\n",
    "\n",
    "flotV = [np, np, np] #변수 floatV에 np list를 3개 넣어 다차원 배열 생성\n",
    "flotV"
   ]
  },
  {
   "cell_type": "code",
   "execution_count": 43,
   "metadata": {},
   "outputs": [
    {
     "data": {
      "text/plain": [
       "[1, 0, 10.4, 3.2, 5.1, 7.5, 2.7]"
      ]
     },
     "execution_count": 43,
     "metadata": {},
     "output_type": "execute_result"
    }
   ],
   "source": [
    "#flotV는 다차원배열\n",
    "#flotV[0]을 통해 n차원 배열 값 출력\n",
    "flotV[0]"
   ]
  },
  {
   "cell_type": "code",
   "execution_count": 45,
   "metadata": {},
   "outputs": [
    {
     "data": {
      "text/plain": [
       "['Python', [1, 0, 10.4, 3.2, 5.1, 7.5, 2.7], [1, 0, 10.4, 3.2, 5.1, 7.5, 2.7]]"
      ]
     },
     "execution_count": 45,
     "metadata": {},
     "output_type": "execute_result"
    }
   ],
   "source": [
    "flotV[0] = 'Python'  #flotV[0]의 차원에 위의 값 대신 'Python'값을 입력해 값을 변환\n",
    "flotV"
   ]
  },
  {
   "cell_type": "code",
   "execution_count": 46,
   "metadata": {},
   "outputs": [
    {
     "data": {
      "text/plain": [
       "array([5.5, 7. ])"
      ]
     },
     "execution_count": 46,
     "metadata": {},
     "output_type": "execute_result"
    }
   ],
   "source": [
    "import numpy as np  #numpy패키지를 np라는 명칭으로 축약\n",
    "\n",
    "a = np.array([1, 2.5, 4.0, 5.5, 7.0])\n",
    "a[3:]"
   ]
  },
  {
   "cell_type": "code",
   "execution_count": 47,
   "metadata": {},
   "outputs": [
    {
     "data": {
      "text/plain": [
       "20.0"
      ]
     },
     "execution_count": 47,
     "metadata": {},
     "output_type": "execute_result"
    }
   ],
   "source": [
    "a.sum()  #rp.array로 생성한 변수 a의 합을 출력"
   ]
  },
  {
   "cell_type": "code",
   "execution_count": 48,
   "metadata": {},
   "outputs": [
    {
     "data": {
      "text/plain": [
       "2.1213203435596424"
      ]
     },
     "execution_count": 48,
     "metadata": {},
     "output_type": "execute_result"
    }
   ],
   "source": [
    "a.std()  #rp.array로 생성한 변수 a의 표준편차을 출력"
   ]
  },
  {
   "cell_type": "code",
   "execution_count": 49,
   "metadata": {},
   "outputs": [
    {
     "data": {
      "text/plain": [
       "array([ 1. ,  3.5,  7.5, 13. , 20. ])"
      ]
     },
     "execution_count": 49,
     "metadata": {},
     "output_type": "execute_result"
    }
   ],
   "source": [
    "a.cumsum()  #rp.array로 생성한 변수 a의 누적 합을 출력"
   ]
  },
  {
   "cell_type": "code",
   "execution_count": 52,
   "metadata": {},
   "outputs": [
    {
     "name": "stdout",
     "output_type": "stream",
     "text": [
      "[1.  2.5 4.  5.5 7. ]\n",
      "[ 2.  5.  8. 11. 14.]\n",
      "[ 1.    6.25 16.   30.25 49.  ]\n",
      "[1.         1.58113883 2.         2.34520788 2.64575131]\n"
     ]
    }
   ],
   "source": [
    "print(a)             #변수 a의 값을 출력\n",
    "print(a*2)           #변수 a의 값에 2를 곱한 것을 출력\n",
    "print(a**2)          #변수 a의 값에 2를 제곱한 것을 출력\n",
    "print(np.sqrt(a))    #변수 a의 값에 루트를 적용한 값을 출력"
   ]
  },
  {
   "cell_type": "code",
   "execution_count": 53,
   "metadata": {},
   "outputs": [
    {
     "data": {
      "text/plain": [
       "array([[ 1.  ,  2.5 ,  4.  ,  5.5 ,  7.  ],\n",
       "       [ 1.  ,  6.25, 16.  , 30.25, 49.  ]])"
      ]
     },
     "execution_count": 53,
     "metadata": {},
     "output_type": "execute_result"
    }
   ],
   "source": [
    "#변수 a의 값을 변수 b에 변환해 저장\n",
    "#a**2는 변수 a의 값을 제공\n",
    "b = np.array([a, a**2])\n",
    "b"
   ]
  },
  {
   "cell_type": "code",
   "execution_count": 55,
   "metadata": {},
   "outputs": [
    {
     "data": {
      "text/plain": [
       "array([ 2.  ,  8.75, 20.  , 35.75, 56.  ])"
      ]
     },
     "execution_count": 55,
     "metadata": {},
     "output_type": "execute_result"
    }
   ],
   "source": [
    "b.sum(axis = 0)  #축(axis)이 0일 경우 세로 축의 합 출력"
   ]
  },
  {
   "cell_type": "code",
   "execution_count": 56,
   "metadata": {},
   "outputs": [
    {
     "data": {
      "text/plain": [
       "array([ 20. , 102.5])"
      ]
     },
     "execution_count": 56,
     "metadata": {},
     "output_type": "execute_result"
    }
   ],
   "source": [
    "b.sum(axis = 1)  #축(axis)이 1일 경우 가로 축의 합 출력"
   ]
  },
  {
   "cell_type": "code",
   "execution_count": 58,
   "metadata": {},
   "outputs": [
    {
     "data": {
      "text/plain": [
       "array([[0, 0, 0],\n",
       "       [0, 0, 0]])"
      ]
     },
     "execution_count": 58,
     "metadata": {},
     "output_type": "execute_result"
    }
   ],
   "source": [
    "np.array([[0,0,0],[0,0,0]])"
   ]
  },
  {
   "cell_type": "code",
   "execution_count": 60,
   "metadata": {},
   "outputs": [
    {
     "data": {
      "text/plain": [
       "array([[0, 0, 0],\n",
       "       [0, 0, 0]], dtype=int32)"
      ]
     },
     "execution_count": 60,
     "metadata": {},
     "output_type": "execute_result"
    }
   ],
   "source": [
    "#위의 배열선언과 다른 방법으로 같은 모양 배열 생성\n",
    "#np.zeros를 통해 값을 설정하고 type를 설정해 배열을 생성 가능\n",
    "\n",
    "\n",
    "values = np.zeros((2,3), dtype = 'i')  #dtype = i:정수형, dtype = f : 복소수형\n",
    "values"
   ]
  },
  {
   "cell_type": "code",
   "execution_count": 61,
   "metadata": {},
   "outputs": [
    {
     "name": "stdout",
     "output_type": "stream",
     "text": [
      "<class 'pandas.core.series.Series'>\n"
     ]
    },
    {
     "data": {
      "text/plain": [
       "2016-11-10    3000\n",
       "2016-11-11    3200\n",
       "2016-11-12    2700\n",
       "dtype: int64"
      ]
     },
     "execution_count": 61,
     "metadata": {},
     "output_type": "execute_result"
    }
   ],
   "source": [
    "import pandas as pd #pandas 패키지를 pd라는 명칭으로 축약해 호출\n",
    "import numpy as np #numpy패키지를 np라는 명칭으로 축약해 호출\n",
    "\n",
    "#Serise의 value와 index를 변수 pandas_series에 선언\n",
    "pandas_series = pd.Series([3000, 3200, 2700],\n",
    "                        index = ['2016-11-10', '2016-11-11', '2016-11-12'])\n",
    "print(type(pandas_series))  #변수 pandas_series의 type 출력\n",
    "pandas_series               #변수 pandas_series 실행"
   ]
  },
  {
   "cell_type": "code",
   "execution_count": 62,
   "metadata": {},
   "outputs": [
    {
     "data": {
      "text/plain": [
       "2016-11-11    3200\n",
       "2016-11-12    2700\n",
       "dtype: int64"
      ]
     },
     "execution_count": 62,
     "metadata": {},
     "output_type": "execute_result"
    }
   ],
   "source": [
    "pandas_series[1:]"
   ]
  },
  {
   "cell_type": "code",
   "execution_count": 63,
   "metadata": {},
   "outputs": [
    {
     "data": {
      "text/html": [
       "<div>\n",
       "<style scoped>\n",
       "    .dataframe tbody tr th:only-of-type {\n",
       "        vertical-align: middle;\n",
       "    }\n",
       "\n",
       "    .dataframe tbody tr th {\n",
       "        vertical-align: top;\n",
       "    }\n",
       "\n",
       "    .dataframe thead th {\n",
       "        text-align: right;\n",
       "    }\n",
       "</style>\n",
       "<table border=\"1\" class=\"dataframe\">\n",
       "  <thead>\n",
       "    <tr style=\"text-align: right;\">\n",
       "      <th></th>\n",
       "      <th>numbers</th>\n",
       "    </tr>\n",
       "  </thead>\n",
       "  <tbody>\n",
       "    <tr>\n",
       "      <th>a</th>\n",
       "      <td>100</td>\n",
       "    </tr>\n",
       "    <tr>\n",
       "      <th>b</th>\n",
       "      <td>150</td>\n",
       "    </tr>\n",
       "    <tr>\n",
       "      <th>c</th>\n",
       "      <td>200</td>\n",
       "    </tr>\n",
       "    <tr>\n",
       "      <th>d</th>\n",
       "      <td>250</td>\n",
       "    </tr>\n",
       "    <tr>\n",
       "      <th>e</th>\n",
       "      <td>300</td>\n",
       "    </tr>\n",
       "  </tbody>\n",
       "</table>\n",
       "</div>"
      ],
      "text/plain": [
       "   numbers\n",
       "a      100\n",
       "b      150\n",
       "c      200\n",
       "d      250\n",
       "e      300"
      ]
     },
     "execution_count": 63,
     "metadata": {},
     "output_type": "execute_result"
    }
   ],
   "source": [
    "import pandas as pd  #pandas 패키지를 pd라는 명칭으로 축약해 호출\n",
    "import numpy as np   #numpy 패키지를 np라는 명칭으로 축약해 호출\n",
    "\n",
    "#DataFrame의 value, column, index를 변수 df에 선언\n",
    "df = pd.DataFrame([100,150,200,250,300], columns = ['numbers'], index = ['a','b','c','d','e'])\n",
    "df"
   ]
  },
  {
   "cell_type": "code",
   "execution_count": 70,
   "metadata": {},
   "outputs": [
    {
     "data": {
      "text/plain": [
       "Index(['a', 'b', 'c', 'd', 'e'], dtype='object')"
      ]
     },
     "execution_count": 70,
     "metadata": {},
     "output_type": "execute_result"
    }
   ],
   "source": [
    "df.index  #DataFrame의 index를 표시"
   ]
  },
  {
   "cell_type": "code",
   "execution_count": 71,
   "metadata": {},
   "outputs": [
    {
     "data": {
      "text/plain": [
       "Index(['numbers'], dtype='object')"
      ]
     },
     "execution_count": 71,
     "metadata": {},
     "output_type": "execute_result"
    }
   ],
   "source": [
    "df.columns  #DataFrame의 column를 표시"
   ]
  },
  {
   "cell_type": "code",
   "execution_count": 74,
   "metadata": {},
   "outputs": [
    {
     "ename": "AttributeError",
     "evalue": "'DataFrame' object has no attribute 'ix'",
     "output_type": "error",
     "traceback": [
      "\u001b[1;31m---------------------------------------------------------------------------\u001b[0m",
      "\u001b[1;31mAttributeError\u001b[0m                            Traceback (most recent call last)",
      "\u001b[1;32m<ipython-input-74-7706168e886b>\u001b[0m in \u001b[0;36m<module>\u001b[1;34m\u001b[0m\n\u001b[1;32m----> 1\u001b[1;33m \u001b[0mdf\u001b[0m\u001b[1;33m.\u001b[0m\u001b[0mix\u001b[0m\u001b[1;33m[\u001b[0m\u001b[1;34m'c'\u001b[0m\u001b[1;33m]\u001b[0m   \u001b[1;31m#DataFrame의 index 중 c에 해당하는 값 출력\u001b[0m\u001b[1;33m\u001b[0m\u001b[1;33m\u001b[0m\u001b[0m\n\u001b[0m",
      "\u001b[1;32m~\\anaconda3\\lib\\site-packages\\pandas\\core\\generic.py\u001b[0m in \u001b[0;36m__getattr__\u001b[1;34m(self, name)\u001b[0m\n\u001b[0;32m   5137\u001b[0m             \u001b[1;32mif\u001b[0m \u001b[0mself\u001b[0m\u001b[1;33m.\u001b[0m\u001b[0m_info_axis\u001b[0m\u001b[1;33m.\u001b[0m\u001b[0m_can_hold_identifiers_and_holds_name\u001b[0m\u001b[1;33m(\u001b[0m\u001b[0mname\u001b[0m\u001b[1;33m)\u001b[0m\u001b[1;33m:\u001b[0m\u001b[1;33m\u001b[0m\u001b[1;33m\u001b[0m\u001b[0m\n\u001b[0;32m   5138\u001b[0m                 \u001b[1;32mreturn\u001b[0m \u001b[0mself\u001b[0m\u001b[1;33m[\u001b[0m\u001b[0mname\u001b[0m\u001b[1;33m]\u001b[0m\u001b[1;33m\u001b[0m\u001b[1;33m\u001b[0m\u001b[0m\n\u001b[1;32m-> 5139\u001b[1;33m             \u001b[1;32mreturn\u001b[0m \u001b[0mobject\u001b[0m\u001b[1;33m.\u001b[0m\u001b[0m__getattribute__\u001b[0m\u001b[1;33m(\u001b[0m\u001b[0mself\u001b[0m\u001b[1;33m,\u001b[0m \u001b[0mname\u001b[0m\u001b[1;33m)\u001b[0m\u001b[1;33m\u001b[0m\u001b[1;33m\u001b[0m\u001b[0m\n\u001b[0m\u001b[0;32m   5140\u001b[0m \u001b[1;33m\u001b[0m\u001b[0m\n\u001b[0;32m   5141\u001b[0m     \u001b[1;32mdef\u001b[0m \u001b[0m__setattr__\u001b[0m\u001b[1;33m(\u001b[0m\u001b[0mself\u001b[0m\u001b[1;33m,\u001b[0m \u001b[0mname\u001b[0m\u001b[1;33m:\u001b[0m \u001b[0mstr\u001b[0m\u001b[1;33m,\u001b[0m \u001b[0mvalue\u001b[0m\u001b[1;33m)\u001b[0m \u001b[1;33m->\u001b[0m \u001b[1;32mNone\u001b[0m\u001b[1;33m:\u001b[0m\u001b[1;33m\u001b[0m\u001b[1;33m\u001b[0m\u001b[0m\n",
      "\u001b[1;31mAttributeError\u001b[0m: 'DataFrame' object has no attribute 'ix'"
     ]
    }
   ],
   "source": [
    "df.ix['c']   #DataFrame의 index 중 c에 해당하는 값 출력"
   ]
  },
  {
   "cell_type": "code",
   "execution_count": 75,
   "metadata": {},
   "outputs": [
    {
     "data": {
      "text/plain": [
       "numbers    1000\n",
       "dtype: int64"
      ]
     },
     "execution_count": 75,
     "metadata": {},
     "output_type": "execute_result"
    }
   ],
   "source": [
    "df.sum()  #DataFrame의 Value를 모두 더함"
   ]
  },
  {
   "cell_type": "code",
   "execution_count": 77,
   "metadata": {},
   "outputs": [
    {
     "data": {
      "text/plain": [
       "a    10000\n",
       "b    22500\n",
       "c    40000\n",
       "d    62500\n",
       "e    90000\n",
       "Name: numbers, dtype: int64"
      ]
     },
     "execution_count": 77,
     "metadata": {},
     "output_type": "execute_result"
    }
   ],
   "source": [
    "df.numbers**2  #DataFrame의 numbers 칼럼의 각 값을 제곱"
   ]
  },
  {
   "cell_type": "code",
   "execution_count": 78,
   "metadata": {},
   "outputs": [
    {
     "data": {
      "text/html": [
       "<div>\n",
       "<style scoped>\n",
       "    .dataframe tbody tr th:only-of-type {\n",
       "        vertical-align: middle;\n",
       "    }\n",
       "\n",
       "    .dataframe tbody tr th {\n",
       "        vertical-align: top;\n",
       "    }\n",
       "\n",
       "    .dataframe thead th {\n",
       "        text-align: right;\n",
       "    }\n",
       "</style>\n",
       "<table border=\"1\" class=\"dataframe\">\n",
       "  <thead>\n",
       "    <tr style=\"text-align: right;\">\n",
       "      <th></th>\n",
       "      <th>numbers</th>\n",
       "      <th>values</th>\n",
       "    </tr>\n",
       "  </thead>\n",
       "  <tbody>\n",
       "    <tr>\n",
       "      <th>a</th>\n",
       "      <td>100</td>\n",
       "      <td>10</td>\n",
       "    </tr>\n",
       "    <tr>\n",
       "      <th>b</th>\n",
       "      <td>150</td>\n",
       "      <td>50</td>\n",
       "    </tr>\n",
       "    <tr>\n",
       "      <th>c</th>\n",
       "      <td>200</td>\n",
       "      <td>40</td>\n",
       "    </tr>\n",
       "    <tr>\n",
       "      <th>d</th>\n",
       "      <td>250</td>\n",
       "      <td>30</td>\n",
       "    </tr>\n",
       "    <tr>\n",
       "      <th>e</th>\n",
       "      <td>300</td>\n",
       "      <td>60</td>\n",
       "    </tr>\n",
       "  </tbody>\n",
       "</table>\n",
       "</div>"
      ],
      "text/plain": [
       "   numbers  values\n",
       "a      100      10\n",
       "b      150      50\n",
       "c      200      40\n",
       "d      250      30\n",
       "e      300      60"
      ]
     },
     "execution_count": 78,
     "metadata": {},
     "output_type": "execute_result"
    }
   ],
   "source": [
    "#DataFrame에 values라는 칼럼을 추가하고 값을 입력\n",
    "df['values'] = (10,50,40,30,60)\n",
    "df"
   ]
  },
  {
   "cell_type": "code",
   "execution_count": 81,
   "metadata": {},
   "outputs": [
    {
     "data": {
      "text/html": [
       "<div>\n",
       "<style scoped>\n",
       "    .dataframe tbody tr th:only-of-type {\n",
       "        vertical-align: middle;\n",
       "    }\n",
       "\n",
       "    .dataframe tbody tr th {\n",
       "        vertical-align: top;\n",
       "    }\n",
       "\n",
       "    .dataframe thead th {\n",
       "        text-align: right;\n",
       "    }\n",
       "</style>\n",
       "<table border=\"1\" class=\"dataframe\">\n",
       "  <thead>\n",
       "    <tr style=\"text-align: right;\">\n",
       "      <th></th>\n",
       "      <th>numbers</th>\n",
       "      <th>values</th>\n",
       "    </tr>\n",
       "  </thead>\n",
       "  <tbody>\n",
       "    <tr>\n",
       "      <th>a</th>\n",
       "      <td>100</td>\n",
       "      <td>NaN</td>\n",
       "    </tr>\n",
       "    <tr>\n",
       "      <th>b</th>\n",
       "      <td>150</td>\n",
       "      <td>First</td>\n",
       "    </tr>\n",
       "    <tr>\n",
       "      <th>c</th>\n",
       "      <td>200</td>\n",
       "      <td>Third</td>\n",
       "    </tr>\n",
       "    <tr>\n",
       "      <th>d</th>\n",
       "      <td>250</td>\n",
       "      <td>FourthSecond</td>\n",
       "    </tr>\n",
       "    <tr>\n",
       "      <th>e</th>\n",
       "      <td>300</td>\n",
       "      <td>NaN</td>\n",
       "    </tr>\n",
       "  </tbody>\n",
       "</table>\n",
       "</div>"
      ],
      "text/plain": [
       "   numbers        values\n",
       "a      100           NaN\n",
       "b      150         First\n",
       "c      200         Third\n",
       "d      250  FourthSecond\n",
       "e      300           NaN"
      ]
     },
     "execution_count": 81,
     "metadata": {},
     "output_type": "execute_result"
    }
   ],
   "source": [
    "#DataFrame의 index의 값에 일치하는 값을 넣음\n",
    "df['values'] = pd.DataFrame(['Fourth' 'Second','First', 'Fifth', 'Third'], index = ['d', 'b', 'a' 'e', 'c'])\n",
    "df"
   ]
  },
  {
   "cell_type": "code",
   "execution_count": 82,
   "metadata": {},
   "outputs": [
    {
     "data": {
      "text/html": [
       "<div>\n",
       "<style scoped>\n",
       "    .dataframe tbody tr th:only-of-type {\n",
       "        vertical-align: middle;\n",
       "    }\n",
       "\n",
       "    .dataframe tbody tr th {\n",
       "        vertical-align: top;\n",
       "    }\n",
       "\n",
       "    .dataframe thead th {\n",
       "        text-align: right;\n",
       "    }\n",
       "</style>\n",
       "<table border=\"1\" class=\"dataframe\">\n",
       "  <thead>\n",
       "    <tr style=\"text-align: right;\">\n",
       "      <th></th>\n",
       "      <th>numbers</th>\n",
       "    </tr>\n",
       "  </thead>\n",
       "  <tbody>\n",
       "    <tr>\n",
       "      <th>a</th>\n",
       "      <td>100</td>\n",
       "    </tr>\n",
       "    <tr>\n",
       "      <th>b</th>\n",
       "      <td>150</td>\n",
       "    </tr>\n",
       "    <tr>\n",
       "      <th>c</th>\n",
       "      <td>200</td>\n",
       "    </tr>\n",
       "    <tr>\n",
       "      <th>d</th>\n",
       "      <td>250</td>\n",
       "    </tr>\n",
       "    <tr>\n",
       "      <th>e</th>\n",
       "      <td>300</td>\n",
       "    </tr>\n",
       "  </tbody>\n",
       "</table>\n",
       "</div>"
      ],
      "text/plain": [
       "   numbers\n",
       "a      100\n",
       "b      150\n",
       "c      200\n",
       "d      250\n",
       "e      300"
      ]
     },
     "execution_count": 82,
     "metadata": {},
     "output_type": "execute_result"
    }
   ],
   "source": [
    "#DataFrame의 Values라는 칼럼을 삭제\n",
    "del df['values']\n",
    "df"
   ]
  },
  {
   "cell_type": "code",
   "execution_count": 83,
   "metadata": {},
   "outputs": [
    {
     "ename": "ValueError",
     "evalue": "Length of values (3) does not match length of index (5)",
     "output_type": "error",
     "traceback": [
      "\u001b[1;31m---------------------------------------------------------------------------\u001b[0m",
      "\u001b[1;31mValueError\u001b[0m                                Traceback (most recent call last)",
      "\u001b[1;32m<ipython-input-83-6cd11988d49d>\u001b[0m in \u001b[0;36m<module>\u001b[1;34m\u001b[0m\n\u001b[1;32m----> 1\u001b[1;33m \u001b[0mdf\u001b[0m\u001b[1;33m[\u001b[0m\u001b[1;34m'values'\u001b[0m\u001b[1;33m]\u001b[0m \u001b[1;33m=\u001b[0m \u001b[1;33m(\u001b[0m\u001b[1;36m10\u001b[0m\u001b[1;33m,\u001b[0m\u001b[1;36m50\u001b[0m\u001b[1;33m,\u001b[0m\u001b[1;36m40\u001b[0m\u001b[1;33m)\u001b[0m \u001b[1;31m#DataFrame의 인덱스 수를 맞추지 않으면 에러 발생\u001b[0m\u001b[1;33m\u001b[0m\u001b[1;33m\u001b[0m\u001b[0m\n\u001b[0m\u001b[0;32m      2\u001b[0m \u001b[0mdf\u001b[0m\u001b[1;33m\u001b[0m\u001b[1;33m\u001b[0m\u001b[0m\n",
      "\u001b[1;32m~\\anaconda3\\lib\\site-packages\\pandas\\core\\frame.py\u001b[0m in \u001b[0;36m__setitem__\u001b[1;34m(self, key, value)\u001b[0m\n\u001b[0;32m   3038\u001b[0m         \u001b[1;32melse\u001b[0m\u001b[1;33m:\u001b[0m\u001b[1;33m\u001b[0m\u001b[1;33m\u001b[0m\u001b[0m\n\u001b[0;32m   3039\u001b[0m             \u001b[1;31m# set column\u001b[0m\u001b[1;33m\u001b[0m\u001b[1;33m\u001b[0m\u001b[1;33m\u001b[0m\u001b[0m\n\u001b[1;32m-> 3040\u001b[1;33m             \u001b[0mself\u001b[0m\u001b[1;33m.\u001b[0m\u001b[0m_set_item\u001b[0m\u001b[1;33m(\u001b[0m\u001b[0mkey\u001b[0m\u001b[1;33m,\u001b[0m \u001b[0mvalue\u001b[0m\u001b[1;33m)\u001b[0m\u001b[1;33m\u001b[0m\u001b[1;33m\u001b[0m\u001b[0m\n\u001b[0m\u001b[0;32m   3041\u001b[0m \u001b[1;33m\u001b[0m\u001b[0m\n\u001b[0;32m   3042\u001b[0m     \u001b[1;32mdef\u001b[0m \u001b[0m_setitem_slice\u001b[0m\u001b[1;33m(\u001b[0m\u001b[0mself\u001b[0m\u001b[1;33m,\u001b[0m \u001b[0mkey\u001b[0m\u001b[1;33m:\u001b[0m \u001b[0mslice\u001b[0m\u001b[1;33m,\u001b[0m \u001b[0mvalue\u001b[0m\u001b[1;33m)\u001b[0m\u001b[1;33m:\u001b[0m\u001b[1;33m\u001b[0m\u001b[1;33m\u001b[0m\u001b[0m\n",
      "\u001b[1;32m~\\anaconda3\\lib\\site-packages\\pandas\\core\\frame.py\u001b[0m in \u001b[0;36m_set_item\u001b[1;34m(self, key, value)\u001b[0m\n\u001b[0;32m   3114\u001b[0m         \"\"\"\n\u001b[0;32m   3115\u001b[0m         \u001b[0mself\u001b[0m\u001b[1;33m.\u001b[0m\u001b[0m_ensure_valid_index\u001b[0m\u001b[1;33m(\u001b[0m\u001b[0mvalue\u001b[0m\u001b[1;33m)\u001b[0m\u001b[1;33m\u001b[0m\u001b[1;33m\u001b[0m\u001b[0m\n\u001b[1;32m-> 3116\u001b[1;33m         \u001b[0mvalue\u001b[0m \u001b[1;33m=\u001b[0m \u001b[0mself\u001b[0m\u001b[1;33m.\u001b[0m\u001b[0m_sanitize_column\u001b[0m\u001b[1;33m(\u001b[0m\u001b[0mkey\u001b[0m\u001b[1;33m,\u001b[0m \u001b[0mvalue\u001b[0m\u001b[1;33m)\u001b[0m\u001b[1;33m\u001b[0m\u001b[1;33m\u001b[0m\u001b[0m\n\u001b[0m\u001b[0;32m   3117\u001b[0m         \u001b[0mNDFrame\u001b[0m\u001b[1;33m.\u001b[0m\u001b[0m_set_item\u001b[0m\u001b[1;33m(\u001b[0m\u001b[0mself\u001b[0m\u001b[1;33m,\u001b[0m \u001b[0mkey\u001b[0m\u001b[1;33m,\u001b[0m \u001b[0mvalue\u001b[0m\u001b[1;33m)\u001b[0m\u001b[1;33m\u001b[0m\u001b[1;33m\u001b[0m\u001b[0m\n\u001b[0;32m   3118\u001b[0m \u001b[1;33m\u001b[0m\u001b[0m\n",
      "\u001b[1;32m~\\anaconda3\\lib\\site-packages\\pandas\\core\\frame.py\u001b[0m in \u001b[0;36m_sanitize_column\u001b[1;34m(self, key, value, broadcast)\u001b[0m\n\u001b[0;32m   3762\u001b[0m \u001b[1;33m\u001b[0m\u001b[0m\n\u001b[0;32m   3763\u001b[0m             \u001b[1;31m# turn me into an ndarray\u001b[0m\u001b[1;33m\u001b[0m\u001b[1;33m\u001b[0m\u001b[1;33m\u001b[0m\u001b[0m\n\u001b[1;32m-> 3764\u001b[1;33m             \u001b[0mvalue\u001b[0m \u001b[1;33m=\u001b[0m \u001b[0msanitize_index\u001b[0m\u001b[1;33m(\u001b[0m\u001b[0mvalue\u001b[0m\u001b[1;33m,\u001b[0m \u001b[0mself\u001b[0m\u001b[1;33m.\u001b[0m\u001b[0mindex\u001b[0m\u001b[1;33m)\u001b[0m\u001b[1;33m\u001b[0m\u001b[1;33m\u001b[0m\u001b[0m\n\u001b[0m\u001b[0;32m   3765\u001b[0m             \u001b[1;32mif\u001b[0m \u001b[1;32mnot\u001b[0m \u001b[0misinstance\u001b[0m\u001b[1;33m(\u001b[0m\u001b[0mvalue\u001b[0m\u001b[1;33m,\u001b[0m \u001b[1;33m(\u001b[0m\u001b[0mnp\u001b[0m\u001b[1;33m.\u001b[0m\u001b[0mndarray\u001b[0m\u001b[1;33m,\u001b[0m \u001b[0mIndex\u001b[0m\u001b[1;33m)\u001b[0m\u001b[1;33m)\u001b[0m\u001b[1;33m:\u001b[0m\u001b[1;33m\u001b[0m\u001b[1;33m\u001b[0m\u001b[0m\n\u001b[0;32m   3766\u001b[0m                 \u001b[1;32mif\u001b[0m \u001b[0misinstance\u001b[0m\u001b[1;33m(\u001b[0m\u001b[0mvalue\u001b[0m\u001b[1;33m,\u001b[0m \u001b[0mlist\u001b[0m\u001b[1;33m)\u001b[0m \u001b[1;32mand\u001b[0m \u001b[0mlen\u001b[0m\u001b[1;33m(\u001b[0m\u001b[0mvalue\u001b[0m\u001b[1;33m)\u001b[0m \u001b[1;33m>\u001b[0m \u001b[1;36m0\u001b[0m\u001b[1;33m:\u001b[0m\u001b[1;33m\u001b[0m\u001b[1;33m\u001b[0m\u001b[0m\n",
      "\u001b[1;32m~\\anaconda3\\lib\\site-packages\\pandas\\core\\internals\\construction.py\u001b[0m in \u001b[0;36msanitize_index\u001b[1;34m(data, index)\u001b[0m\n\u001b[0;32m    745\u001b[0m     \"\"\"\n\u001b[0;32m    746\u001b[0m     \u001b[1;32mif\u001b[0m \u001b[0mlen\u001b[0m\u001b[1;33m(\u001b[0m\u001b[0mdata\u001b[0m\u001b[1;33m)\u001b[0m \u001b[1;33m!=\u001b[0m \u001b[0mlen\u001b[0m\u001b[1;33m(\u001b[0m\u001b[0mindex\u001b[0m\u001b[1;33m)\u001b[0m\u001b[1;33m:\u001b[0m\u001b[1;33m\u001b[0m\u001b[1;33m\u001b[0m\u001b[0m\n\u001b[1;32m--> 747\u001b[1;33m         raise ValueError(\n\u001b[0m\u001b[0;32m    748\u001b[0m             \u001b[1;34m\"Length of values \"\u001b[0m\u001b[1;33m\u001b[0m\u001b[1;33m\u001b[0m\u001b[0m\n\u001b[0;32m    749\u001b[0m             \u001b[1;34mf\"({len(data)}) \"\u001b[0m\u001b[1;33m\u001b[0m\u001b[1;33m\u001b[0m\u001b[0m\n",
      "\u001b[1;31mValueError\u001b[0m: Length of values (3) does not match length of index (5)"
     ]
    }
   ],
   "source": [
    "df['values'] = (10,50,40) #DataFrame의 인덱스 수를 맞추지 않으면 에러 발생\n",
    "df"
   ]
  },
  {
   "cell_type": "code",
   "execution_count": 85,
   "metadata": {},
   "outputs": [
    {
     "data": {
      "text/html": [
       "<div>\n",
       "<style scoped>\n",
       "    .dataframe tbody tr th:only-of-type {\n",
       "        vertical-align: middle;\n",
       "    }\n",
       "\n",
       "    .dataframe tbody tr th {\n",
       "        vertical-align: top;\n",
       "    }\n",
       "\n",
       "    .dataframe thead th {\n",
       "        text-align: right;\n",
       "    }\n",
       "</style>\n",
       "<table border=\"1\" class=\"dataframe\">\n",
       "  <thead>\n",
       "    <tr style=\"text-align: right;\">\n",
       "      <th></th>\n",
       "      <th>A</th>\n",
       "      <th>B</th>\n",
       "    </tr>\n",
       "  </thead>\n",
       "  <tbody>\n",
       "    <tr>\n",
       "      <th>0</th>\n",
       "      <td>1</td>\n",
       "      <td>4</td>\n",
       "    </tr>\n",
       "    <tr>\n",
       "      <th>1</th>\n",
       "      <td>2</td>\n",
       "      <td>5</td>\n",
       "    </tr>\n",
       "    <tr>\n",
       "      <th>2</th>\n",
       "      <td>3</td>\n",
       "      <td>6</td>\n",
       "    </tr>\n",
       "    <tr>\n",
       "      <th>3</th>\n",
       "      <td>NaN</td>\n",
       "      <td>7</td>\n",
       "    </tr>\n",
       "  </tbody>\n",
       "</table>\n",
       "</div>"
      ],
      "text/plain": [
       "     A  B\n",
       "0    1  4\n",
       "1    2  5\n",
       "2    3  6\n",
       "3  NaN  7"
      ]
     },
     "execution_count": 85,
     "metadata": {},
     "output_type": "execute_result"
    }
   ],
   "source": [
    "#column A 에 1, 2, 3 값 넣음\n",
    "df_1 = pd.DataFrame(['1', '2', '3'], columns = ['A'])\n",
    "\n",
    "#column B 에 4, 5, 6, 7 값 넣음\n",
    "df_2 = pd.DataFrame(['4', '5', '6', '7'], columns = ['B'])\n",
    "\n",
    "df = df_1.join(df_2, how = 'outer')  #두 개의 DataFrame을 outer join으로 합침\n",
    "df #합친 DataFrame 출력"
   ]
  },
  {
   "cell_type": "code",
   "execution_count": 86,
   "metadata": {},
   "outputs": [
    {
     "data": {
      "text/html": [
       "<div>\n",
       "<style scoped>\n",
       "    .dataframe tbody tr th:only-of-type {\n",
       "        vertical-align: middle;\n",
       "    }\n",
       "\n",
       "    .dataframe tbody tr th {\n",
       "        vertical-align: top;\n",
       "    }\n",
       "\n",
       "    .dataframe thead th {\n",
       "        text-align: right;\n",
       "    }\n",
       "</style>\n",
       "<table border=\"1\" class=\"dataframe\">\n",
       "  <thead>\n",
       "    <tr style=\"text-align: right;\">\n",
       "      <th></th>\n",
       "      <th>A</th>\n",
       "      <th>B</th>\n",
       "      <th>C</th>\n",
       "      <th>D</th>\n",
       "      <th>E</th>\n",
       "    </tr>\n",
       "  </thead>\n",
       "  <tbody>\n",
       "    <tr>\n",
       "      <th>0</th>\n",
       "      <td>-0.284509</td>\n",
       "      <td>0.690541</td>\n",
       "      <td>-0.471817</td>\n",
       "      <td>-0.355936</td>\n",
       "      <td>1.813454</td>\n",
       "    </tr>\n",
       "    <tr>\n",
       "      <th>1</th>\n",
       "      <td>0.989392</td>\n",
       "      <td>-0.222610</td>\n",
       "      <td>-0.469658</td>\n",
       "      <td>-0.855239</td>\n",
       "      <td>1.423816</td>\n",
       "    </tr>\n",
       "    <tr>\n",
       "      <th>2</th>\n",
       "      <td>-0.389147</td>\n",
       "      <td>-1.204169</td>\n",
       "      <td>1.200540</td>\n",
       "      <td>0.069767</td>\n",
       "      <td>-0.285007</td>\n",
       "    </tr>\n",
       "    <tr>\n",
       "      <th>3</th>\n",
       "      <td>-0.203459</td>\n",
       "      <td>-1.030624</td>\n",
       "      <td>0.774804</td>\n",
       "      <td>-0.534033</td>\n",
       "      <td>1.188128</td>\n",
       "    </tr>\n",
       "    <tr>\n",
       "      <th>4</th>\n",
       "      <td>0.595594</td>\n",
       "      <td>-1.713264</td>\n",
       "      <td>-0.066908</td>\n",
       "      <td>-2.242333</td>\n",
       "      <td>1.092627</td>\n",
       "    </tr>\n",
       "  </tbody>\n",
       "</table>\n",
       "</div>"
      ],
      "text/plain": [
       "          A         B         C         D         E\n",
       "0 -0.284509  0.690541 -0.471817 -0.355936  1.813454\n",
       "1  0.989392 -0.222610 -0.469658 -0.855239  1.423816\n",
       "2 -0.389147 -1.204169  1.200540  0.069767 -0.285007\n",
       "3 -0.203459 -1.030624  0.774804 -0.534033  1.188128\n",
       "4  0.595594 -1.713264 -0.066908 -2.242333  1.092627"
      ]
     },
     "execution_count": 86,
     "metadata": {},
     "output_type": "execute_result"
    }
   ],
   "source": [
    "import pandas as pd\n",
    "import numpy as np\n",
    "\n",
    "#random 값을 넣은 DataFrame 생성\n",
    "#np.random.randn은 5행 5열의 랜덤 데이터를 생성\n",
    "#재호출시 데이터가 변형되므로 주의\n",
    "df = pd.DataFrame(np.random.randn(5,5))\n",
    "df.columns = ['A', 'B', 'C', 'D', 'E']\n",
    "\n",
    "df"
   ]
  },
  {
   "cell_type": "code",
   "execution_count": 87,
   "metadata": {},
   "outputs": [
    {
     "data": {
      "text/plain": [
       "A    0.989392\n",
       "B    0.690541\n",
       "C    1.200540\n",
       "D    0.069767\n",
       "E    1.813454\n",
       "dtype: float64"
      ]
     },
     "execution_count": 87,
     "metadata": {},
     "output_type": "execute_result"
    }
   ],
   "source": [
    "#각 Column별 최대값 출력\n",
    "df.max()"
   ]
  },
  {
   "cell_type": "code",
   "execution_count": 88,
   "metadata": {},
   "outputs": [
    {
     "data": {
      "text/plain": [
       "A   -0.389147\n",
       "B   -1.713264\n",
       "C   -0.471817\n",
       "D   -2.242333\n",
       "E   -0.285007\n",
       "dtype: float64"
      ]
     },
     "execution_count": 88,
     "metadata": {},
     "output_type": "execute_result"
    }
   ],
   "source": [
    "#각 Column별 최소값 출력\n",
    "df.min()"
   ]
  },
  {
   "cell_type": "code",
   "execution_count": 89,
   "metadata": {},
   "outputs": [
    {
     "data": {
      "text/plain": [
       "A    0.141574\n",
       "B   -0.696025\n",
       "C    0.193392\n",
       "D   -0.783555\n",
       "E    1.046604\n",
       "dtype: float64"
      ]
     },
     "execution_count": 89,
     "metadata": {},
     "output_type": "execute_result"
    }
   ],
   "source": [
    "#각 Column별 평균값 출력\n",
    "df.mean()"
   ]
  },
  {
   "cell_type": "code",
   "execution_count": 90,
   "metadata": {},
   "outputs": [
    {
     "data": {
      "text/plain": [
       "A    0.613838\n",
       "B    0.942288\n",
       "C    0.758664\n",
       "D    0.881256\n",
       "E    0.794620\n",
       "dtype: float64"
      ]
     },
     "execution_count": 90,
     "metadata": {},
     "output_type": "execute_result"
    }
   ],
   "source": [
    "#각 Column별 표준편차 출력\n",
    "df.std()"
   ]
  },
  {
   "cell_type": "code",
   "execution_count": 92,
   "metadata": {},
   "outputs": [
    {
     "data": {
      "text/html": [
       "<div>\n",
       "<style scoped>\n",
       "    .dataframe tbody tr th:only-of-type {\n",
       "        vertical-align: middle;\n",
       "    }\n",
       "\n",
       "    .dataframe tbody tr th {\n",
       "        vertical-align: top;\n",
       "    }\n",
       "\n",
       "    .dataframe thead th {\n",
       "        text-align: right;\n",
       "    }\n",
       "</style>\n",
       "<table border=\"1\" class=\"dataframe\">\n",
       "  <thead>\n",
       "    <tr style=\"text-align: right;\">\n",
       "      <th></th>\n",
       "      <th>A</th>\n",
       "      <th>B</th>\n",
       "      <th>C</th>\n",
       "      <th>D</th>\n",
       "      <th>E</th>\n",
       "    </tr>\n",
       "  </thead>\n",
       "  <tbody>\n",
       "    <tr>\n",
       "      <th>0</th>\n",
       "      <td>-0.284509</td>\n",
       "      <td>0.690541</td>\n",
       "      <td>-0.471817</td>\n",
       "      <td>-0.355936</td>\n",
       "      <td>1.813454</td>\n",
       "    </tr>\n",
       "    <tr>\n",
       "      <th>1</th>\n",
       "      <td>0.704883</td>\n",
       "      <td>0.467931</td>\n",
       "      <td>-0.941476</td>\n",
       "      <td>-1.211175</td>\n",
       "      <td>3.237271</td>\n",
       "    </tr>\n",
       "    <tr>\n",
       "      <th>2</th>\n",
       "      <td>0.315736</td>\n",
       "      <td>-0.736238</td>\n",
       "      <td>0.259065</td>\n",
       "      <td>-1.141408</td>\n",
       "      <td>2.952264</td>\n",
       "    </tr>\n",
       "    <tr>\n",
       "      <th>3</th>\n",
       "      <td>0.112277</td>\n",
       "      <td>-1.766861</td>\n",
       "      <td>1.033868</td>\n",
       "      <td>-1.675441</td>\n",
       "      <td>4.140392</td>\n",
       "    </tr>\n",
       "    <tr>\n",
       "      <th>4</th>\n",
       "      <td>0.707871</td>\n",
       "      <td>-3.480125</td>\n",
       "      <td>0.966960</td>\n",
       "      <td>-3.917775</td>\n",
       "      <td>5.233019</td>\n",
       "    </tr>\n",
       "  </tbody>\n",
       "</table>\n",
       "</div>"
      ],
      "text/plain": [
       "          A         B         C         D         E\n",
       "0 -0.284509  0.690541 -0.471817 -0.355936  1.813454\n",
       "1  0.704883  0.467931 -0.941476 -1.211175  3.237271\n",
       "2  0.315736 -0.736238  0.259065 -1.141408  2.952264\n",
       "3  0.112277 -1.766861  1.033868 -1.675441  4.140392\n",
       "4  0.707871 -3.480125  0.966960 -3.917775  5.233019"
      ]
     },
     "execution_count": 92,
     "metadata": {},
     "output_type": "execute_result"
    }
   ],
   "source": [
    "#각 Column별 누적합값 출력\n",
    "df.cumsum()"
   ]
  },
  {
   "cell_type": "raw",
   "metadata": {},
   "source": []
  },
  {
   "cell_type": "code",
   "execution_count": 93,
   "metadata": {},
   "outputs": [
    {
     "data": {
      "text/html": [
       "<div>\n",
       "<style scoped>\n",
       "    .dataframe tbody tr th:only-of-type {\n",
       "        vertical-align: middle;\n",
       "    }\n",
       "\n",
       "    .dataframe tbody tr th {\n",
       "        vertical-align: top;\n",
       "    }\n",
       "\n",
       "    .dataframe thead th {\n",
       "        text-align: right;\n",
       "    }\n",
       "</style>\n",
       "<table border=\"1\" class=\"dataframe\">\n",
       "  <thead>\n",
       "    <tr style=\"text-align: right;\">\n",
       "      <th></th>\n",
       "      <th>A</th>\n",
       "      <th>B</th>\n",
       "      <th>C</th>\n",
       "      <th>D</th>\n",
       "      <th>E</th>\n",
       "    </tr>\n",
       "  </thead>\n",
       "  <tbody>\n",
       "    <tr>\n",
       "      <th>count</th>\n",
       "      <td>5.000000</td>\n",
       "      <td>5.000000</td>\n",
       "      <td>5.000000</td>\n",
       "      <td>5.000000</td>\n",
       "      <td>5.000000</td>\n",
       "    </tr>\n",
       "    <tr>\n",
       "      <th>mean</th>\n",
       "      <td>0.141574</td>\n",
       "      <td>-0.696025</td>\n",
       "      <td>0.193392</td>\n",
       "      <td>-0.783555</td>\n",
       "      <td>1.046604</td>\n",
       "    </tr>\n",
       "    <tr>\n",
       "      <th>std</th>\n",
       "      <td>0.613838</td>\n",
       "      <td>0.942288</td>\n",
       "      <td>0.758664</td>\n",
       "      <td>0.881256</td>\n",
       "      <td>0.794620</td>\n",
       "    </tr>\n",
       "    <tr>\n",
       "      <th>min</th>\n",
       "      <td>-0.389147</td>\n",
       "      <td>-1.713264</td>\n",
       "      <td>-0.471817</td>\n",
       "      <td>-2.242333</td>\n",
       "      <td>-0.285007</td>\n",
       "    </tr>\n",
       "    <tr>\n",
       "      <th>25%</th>\n",
       "      <td>-0.284509</td>\n",
       "      <td>-1.204169</td>\n",
       "      <td>-0.469658</td>\n",
       "      <td>-0.855239</td>\n",
       "      <td>1.092627</td>\n",
       "    </tr>\n",
       "    <tr>\n",
       "      <th>50%</th>\n",
       "      <td>-0.203459</td>\n",
       "      <td>-1.030624</td>\n",
       "      <td>-0.066908</td>\n",
       "      <td>-0.534033</td>\n",
       "      <td>1.188128</td>\n",
       "    </tr>\n",
       "    <tr>\n",
       "      <th>75%</th>\n",
       "      <td>0.595594</td>\n",
       "      <td>-0.222610</td>\n",
       "      <td>0.774804</td>\n",
       "      <td>-0.355936</td>\n",
       "      <td>1.423816</td>\n",
       "    </tr>\n",
       "    <tr>\n",
       "      <th>max</th>\n",
       "      <td>0.989392</td>\n",
       "      <td>0.690541</td>\n",
       "      <td>1.200540</td>\n",
       "      <td>0.069767</td>\n",
       "      <td>1.813454</td>\n",
       "    </tr>\n",
       "  </tbody>\n",
       "</table>\n",
       "</div>"
      ],
      "text/plain": [
       "              A         B         C         D         E\n",
       "count  5.000000  5.000000  5.000000  5.000000  5.000000\n",
       "mean   0.141574 -0.696025  0.193392 -0.783555  1.046604\n",
       "std    0.613838  0.942288  0.758664  0.881256  0.794620\n",
       "min   -0.389147 -1.713264 -0.471817 -2.242333 -0.285007\n",
       "25%   -0.284509 -1.204169 -0.469658 -0.855239  1.092627\n",
       "50%   -0.203459 -1.030624 -0.066908 -0.534033  1.188128\n",
       "75%    0.595594 -0.222610  0.774804 -0.355936  1.423816\n",
       "max    0.989392  0.690541  1.200540  0.069767  1.813454"
      ]
     },
     "execution_count": 93,
     "metadata": {},
     "output_type": "execute_result"
    }
   ],
   "source": [
    "#Describe함수를 이용해 DataFrame 데이터의 통계 요약값 표현\n",
    "df.describe()"
   ]
  },
  {
   "cell_type": "code",
   "execution_count": 94,
   "metadata": {},
   "outputs": [
    {
     "data": {
      "text/html": [
       "<div>\n",
       "<style scoped>\n",
       "    .dataframe tbody tr th:only-of-type {\n",
       "        vertical-align: middle;\n",
       "    }\n",
       "\n",
       "    .dataframe tbody tr th {\n",
       "        vertical-align: top;\n",
       "    }\n",
       "\n",
       "    .dataframe thead th {\n",
       "        text-align: right;\n",
       "    }\n",
       "</style>\n",
       "<table border=\"1\" class=\"dataframe\">\n",
       "  <thead>\n",
       "    <tr style=\"text-align: right;\">\n",
       "      <th></th>\n",
       "      <th>A</th>\n",
       "      <th>B</th>\n",
       "      <th>C</th>\n",
       "      <th>D</th>\n",
       "      <th>E</th>\n",
       "      <th>division</th>\n",
       "    </tr>\n",
       "  </thead>\n",
       "  <tbody>\n",
       "    <tr>\n",
       "      <th>0</th>\n",
       "      <td>-0.284509</td>\n",
       "      <td>0.690541</td>\n",
       "      <td>-0.471817</td>\n",
       "      <td>-0.355936</td>\n",
       "      <td>1.813454</td>\n",
       "      <td>X</td>\n",
       "    </tr>\n",
       "    <tr>\n",
       "      <th>1</th>\n",
       "      <td>0.989392</td>\n",
       "      <td>-0.222610</td>\n",
       "      <td>-0.469658</td>\n",
       "      <td>-0.855239</td>\n",
       "      <td>1.423816</td>\n",
       "      <td>Y</td>\n",
       "    </tr>\n",
       "    <tr>\n",
       "      <th>2</th>\n",
       "      <td>-0.389147</td>\n",
       "      <td>-1.204169</td>\n",
       "      <td>1.200540</td>\n",
       "      <td>0.069767</td>\n",
       "      <td>-0.285007</td>\n",
       "      <td>X</td>\n",
       "    </tr>\n",
       "    <tr>\n",
       "      <th>3</th>\n",
       "      <td>-0.203459</td>\n",
       "      <td>-1.030624</td>\n",
       "      <td>0.774804</td>\n",
       "      <td>-0.534033</td>\n",
       "      <td>1.188128</td>\n",
       "      <td>Y</td>\n",
       "    </tr>\n",
       "    <tr>\n",
       "      <th>4</th>\n",
       "      <td>0.595594</td>\n",
       "      <td>-1.713264</td>\n",
       "      <td>-0.066908</td>\n",
       "      <td>-2.242333</td>\n",
       "      <td>1.092627</td>\n",
       "      <td>Z</td>\n",
       "    </tr>\n",
       "  </tbody>\n",
       "</table>\n",
       "</div>"
      ],
      "text/plain": [
       "          A         B         C         D         E division\n",
       "0 -0.284509  0.690541 -0.471817 -0.355936  1.813454        X\n",
       "1  0.989392 -0.222610 -0.469658 -0.855239  1.423816        Y\n",
       "2 -0.389147 -1.204169  1.200540  0.069767 -0.285007        X\n",
       "3 -0.203459 -1.030624  0.774804 -0.534033  1.188128        Y\n",
       "4  0.595594 -1.713264 -0.066908 -2.242333  1.092627        Z"
      ]
     },
     "execution_count": 94,
     "metadata": {},
     "output_type": "execute_result"
    }
   ],
   "source": [
    "#Group by 하기 전 그룹별로 구분하기 위해 division이라는 Column을 생성\n",
    "df['division'] = ['X', 'Y', 'X', 'Y', 'Z']\n",
    "df"
   ]
  },
  {
   "cell_type": "code",
   "execution_count": 95,
   "metadata": {},
   "outputs": [
    {
     "data": {
      "text/html": [
       "<div>\n",
       "<style scoped>\n",
       "    .dataframe tbody tr th:only-of-type {\n",
       "        vertical-align: middle;\n",
       "    }\n",
       "\n",
       "    .dataframe tbody tr th {\n",
       "        vertical-align: top;\n",
       "    }\n",
       "\n",
       "    .dataframe thead th {\n",
       "        text-align: right;\n",
       "    }\n",
       "</style>\n",
       "<table border=\"1\" class=\"dataframe\">\n",
       "  <thead>\n",
       "    <tr style=\"text-align: right;\">\n",
       "      <th></th>\n",
       "      <th>A</th>\n",
       "      <th>B</th>\n",
       "      <th>C</th>\n",
       "      <th>D</th>\n",
       "      <th>E</th>\n",
       "    </tr>\n",
       "    <tr>\n",
       "      <th>division</th>\n",
       "      <th></th>\n",
       "      <th></th>\n",
       "      <th></th>\n",
       "      <th></th>\n",
       "      <th></th>\n",
       "    </tr>\n",
       "  </thead>\n",
       "  <tbody>\n",
       "    <tr>\n",
       "      <th>X</th>\n",
       "      <td>-0.336828</td>\n",
       "      <td>-0.256814</td>\n",
       "      <td>0.364361</td>\n",
       "      <td>-0.143084</td>\n",
       "      <td>0.764224</td>\n",
       "    </tr>\n",
       "    <tr>\n",
       "      <th>Y</th>\n",
       "      <td>0.392967</td>\n",
       "      <td>-0.626617</td>\n",
       "      <td>0.152573</td>\n",
       "      <td>-0.694636</td>\n",
       "      <td>1.305972</td>\n",
       "    </tr>\n",
       "    <tr>\n",
       "      <th>Z</th>\n",
       "      <td>0.595594</td>\n",
       "      <td>-1.713264</td>\n",
       "      <td>-0.066908</td>\n",
       "      <td>-2.242333</td>\n",
       "      <td>1.092627</td>\n",
       "    </tr>\n",
       "  </tbody>\n",
       "</table>\n",
       "</div>"
      ],
      "text/plain": [
       "                 A         B         C         D         E\n",
       "division                                                  \n",
       "X        -0.336828 -0.256814  0.364361 -0.143084  0.764224\n",
       "Y         0.392967 -0.626617  0.152573 -0.694636  1.305972\n",
       "Z         0.595594 -1.713264 -0.066908 -2.242333  1.092627"
      ]
     },
     "execution_count": 95,
     "metadata": {},
     "output_type": "execute_result"
    }
   ],
   "source": [
    "#DataFrame에 Group by를 사용해 Colums division의 값에 따라 평균값을 산출\n",
    "df.groupby(['division']).mean()"
   ]
  },
  {
   "cell_type": "code",
   "execution_count": 96,
   "metadata": {},
   "outputs": [
    {
     "name": "stdout",
     "output_type": "stream",
     "text": [
      "3\n"
     ]
    }
   ],
   "source": [
    "a = [200,300,200,500,400,300,300]\n",
    "print(a.count(300))"
   ]
  },
  {
   "cell_type": "code",
   "execution_count": null,
   "metadata": {},
   "outputs": [],
   "source": []
  }
 ],
 "metadata": {
  "kernelspec": {
   "display_name": "Python 3",
   "language": "python",
   "name": "python3"
  },
  "language_info": {
   "codemirror_mode": {
    "name": "ipython",
    "version": 3
   },
   "file_extension": ".py",
   "mimetype": "text/x-python",
   "name": "python",
   "nbconvert_exporter": "python",
   "pygments_lexer": "ipython3",
   "version": "3.8.5"
  }
 },
 "nbformat": 4,
 "nbformat_minor": 4
}
